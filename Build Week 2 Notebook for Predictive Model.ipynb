{
 "cells": [
  {
   "cell_type": "code",
   "execution_count": 2,
   "metadata": {
    "colab": {},
    "colab_type": "code",
    "id": "ZW__7VLJBAQ3"
   },
   "outputs": [
    {
     "output_type": "error",
     "ename": "ModuleNotFoundError",
     "evalue": "No module named 'altair'",
     "traceback": [
      "\u001b[1;31m---------------------------------------------------------------------------\u001b[0m",
      "\u001b[1;31mModuleNotFoundError\u001b[0m                       Traceback (most recent call last)",
      "\u001b[1;32m<ipython-input-2-d3afbf5d5f45>\u001b[0m in \u001b[0;36m<module>\u001b[1;34m\u001b[0m\n\u001b[0;32m      2\u001b[0m \u001b[1;32mimport\u001b[0m \u001b[0mnumpy\u001b[0m \u001b[1;32mas\u001b[0m \u001b[0mnp\u001b[0m\u001b[1;33m\u001b[0m\u001b[1;33m\u001b[0m\u001b[0m\n\u001b[0;32m      3\u001b[0m \u001b[1;32mimport\u001b[0m \u001b[0mmatplotlib\u001b[0m\u001b[1;33m.\u001b[0m\u001b[0mpyplot\u001b[0m \u001b[1;32mas\u001b[0m \u001b[0mplt\u001b[0m\u001b[1;33m\u001b[0m\u001b[1;33m\u001b[0m\u001b[0m\n\u001b[1;32m----> 4\u001b[1;33m \u001b[1;32mimport\u001b[0m \u001b[0maltair\u001b[0m \u001b[1;32mas\u001b[0m \u001b[0malt\u001b[0m\u001b[1;33m\u001b[0m\u001b[1;33m\u001b[0m\u001b[0m\n\u001b[0m\u001b[0;32m      5\u001b[0m \u001b[1;32mimport\u001b[0m \u001b[0mseaborn\u001b[0m \u001b[1;32mas\u001b[0m \u001b[0msns\u001b[0m\u001b[1;33m\u001b[0m\u001b[1;33m\u001b[0m\u001b[0m\n",
      "\u001b[1;31mModuleNotFoundError\u001b[0m: No module named 'altair'"
     ]
    }
   ],
   "source": [
    "import pandas as pd\n",
    "import numpy as np\n",
    "import matplotlib.pyplot as plt\n",
    "import altair as alt\n",
    "import seaborn as sns\n",
    ""
   ]
  },
  {
   "cell_type": "markdown",
   "metadata": {
    "colab_type": "text",
    "id": "PdcqXzlKjll4"
   },
   "source": [
    "# ------------------------------ Loading/Exploring Dataset ------------------------------\n",
    "\n",
    "\n"
   ]
  },
  {
   "cell_type": "code",
   "execution_count": null,
   "metadata": {
    "colab": {
     "base_uri": "https://localhost:8080/",
     "height": 34
    },
    "colab_type": "code",
    "executionInfo": {
     "elapsed": 877,
     "status": "ok",
     "timestamp": 1584564379103,
     "user": {
      "displayName": "Kyle Yates",
      "photoUrl": "https://lh3.googleusercontent.com/a-/AOh14GihSdUuoj8Jqg3faSdJ_YoYcCNfdD4nBcMH0a-eNw=s64",
      "userId": "13984558898084674041"
     },
     "user_tz": 420
    },
    "id": "c-oNQfr06Dhs",
    "outputId": "96a13cd5-b3e8-4856-cda5-f8db0756aa08"
   },
   "outputs": [],
   "source": [
    "df = pd.read_csv('https://raw.githubusercontent.com/KyleTy1er/Build-Week-1/master/UFC_Data_Proc.csv')\n",
    "df.shape"
   ]
  },
  {
   "cell_type": "code",
   "execution_count": null,
   "metadata": {
    "colab": {},
    "colab_type": "code",
    "id": "5fLctFoCOfqS"
   },
   "outputs": [],
   "source": [
    "df_test_stuff = df.copy()"
   ]
  },
  {
   "cell_type": "code",
   "execution_count": 5,
   "metadata": {
    "colab": {
     "base_uri": "https://localhost:8080/",
     "height": 457
    },
    "colab_type": "code",
    "executionInfo": {
     "elapsed": 596,
     "status": "ok",
     "timestamp": 1584562446610,
     "user": {
      "displayName": "Kyle Yates",
      "photoUrl": "https://lh3.googleusercontent.com/a-/AOh14GihSdUuoj8Jqg3faSdJ_YoYcCNfdD4nBcMH0a-eNw=s64",
      "userId": "13984558898084674041"
     },
     "user_tz": 420
    },
    "id": "hV3W64gmOaFp",
    "outputId": "5628f8a5-b159-4b36-b4a7-203658cae703"
   },
   "outputs": [
    {
     "output_type": "execute_result",
     "data": {
      "text/plain": "   Height_cms  Reach_cms          Referee    Stance  Weight_lbs Winner   age  \\\n0      162.56     162.56     Marc Goddard  Orthodox       135.0    Red  32.0   \n1      165.10     167.64  Robert Madrigal  Southpaw       125.0    Red  31.0   \n2      180.34     193.04  Dan Miragliotta  Orthodox       155.0    Red  35.0   \n3      162.56     172.72  Kevin MacDonald  Orthodox       135.0   Blue  29.0   \n4      187.96     190.50  Dan Miragliotta  Southpaw       264.0   Blue  26.0   \n\n   avg_BODY_att  avg_BODY_landed  avg_CLINCH_att  ...  \\\n0     21.900000        16.400000       17.000000  ...   \n1     12.000000         7.714286        9.285714  ...   \n2     13.866667         8.666667        2.866667  ...   \n3     18.250000        10.250000        5.875000  ...   \n4      7.750000         6.750000       11.000000  ...   \n\n   total_time_fought(seconds)  total_title_bouts       weight_class  \\\n0                      742.60                3.0       Bantamweight   \n1                     1062.00                2.0  Women's Flyweight   \n2                      604.40                2.0        Lightweight   \n3                      690.25                0.0       Bantamweight   \n4                      440.75                0.0        Heavyweight   \n\n   win_by_Decision_Majority  win_by_Decision_Split  win_by_Decision_Unanimous  \\\n0                       0.0                    2.0                        4.0   \n1                       0.0                    1.0                        2.0   \n2                       0.0                    1.0                        3.0   \n3                       0.0                    1.0                        4.0   \n4                       0.0                    0.0                        1.0   \n\n   win_by_KO/TKO  win_by_Submission  win_by_TKO_Doctor_Stoppage  wins  \n0            2.0                0.0                         0.0   8.0  \n1            0.0                2.0                         0.0   5.0  \n2            3.0                6.0                         1.0  14.0  \n3            1.0                0.0                         0.0   6.0  \n4            2.0                0.0                         0.0   3.0  \n\n[5 rows x 158 columns]",
      "text/html": "<div>\n<style scoped>\n    .dataframe tbody tr th:only-of-type {\n        vertical-align: middle;\n    }\n\n    .dataframe tbody tr th {\n        vertical-align: top;\n    }\n\n    .dataframe thead th {\n        text-align: right;\n    }\n</style>\n<table border=\"1\" class=\"dataframe\">\n  <thead>\n    <tr style=\"text-align: right;\">\n      <th></th>\n      <th>Height_cms</th>\n      <th>Reach_cms</th>\n      <th>Referee</th>\n      <th>Stance</th>\n      <th>Weight_lbs</th>\n      <th>Winner</th>\n      <th>age</th>\n      <th>avg_BODY_att</th>\n      <th>avg_BODY_landed</th>\n      <th>avg_CLINCH_att</th>\n      <th>...</th>\n      <th>total_time_fought(seconds)</th>\n      <th>total_title_bouts</th>\n      <th>weight_class</th>\n      <th>win_by_Decision_Majority</th>\n      <th>win_by_Decision_Split</th>\n      <th>win_by_Decision_Unanimous</th>\n      <th>win_by_KO/TKO</th>\n      <th>win_by_Submission</th>\n      <th>win_by_TKO_Doctor_Stoppage</th>\n      <th>wins</th>\n    </tr>\n  </thead>\n  <tbody>\n    <tr>\n      <td>0</td>\n      <td>162.56</td>\n      <td>162.56</td>\n      <td>Marc Goddard</td>\n      <td>Orthodox</td>\n      <td>135.0</td>\n      <td>Red</td>\n      <td>32.0</td>\n      <td>21.900000</td>\n      <td>16.400000</td>\n      <td>17.000000</td>\n      <td>...</td>\n      <td>742.60</td>\n      <td>3.0</td>\n      <td>Bantamweight</td>\n      <td>0.0</td>\n      <td>2.0</td>\n      <td>4.0</td>\n      <td>2.0</td>\n      <td>0.0</td>\n      <td>0.0</td>\n      <td>8.0</td>\n    </tr>\n    <tr>\n      <td>1</td>\n      <td>165.10</td>\n      <td>167.64</td>\n      <td>Robert Madrigal</td>\n      <td>Southpaw</td>\n      <td>125.0</td>\n      <td>Red</td>\n      <td>31.0</td>\n      <td>12.000000</td>\n      <td>7.714286</td>\n      <td>9.285714</td>\n      <td>...</td>\n      <td>1062.00</td>\n      <td>2.0</td>\n      <td>Women's Flyweight</td>\n      <td>0.0</td>\n      <td>1.0</td>\n      <td>2.0</td>\n      <td>0.0</td>\n      <td>2.0</td>\n      <td>0.0</td>\n      <td>5.0</td>\n    </tr>\n    <tr>\n      <td>2</td>\n      <td>180.34</td>\n      <td>193.04</td>\n      <td>Dan Miragliotta</td>\n      <td>Orthodox</td>\n      <td>155.0</td>\n      <td>Red</td>\n      <td>35.0</td>\n      <td>13.866667</td>\n      <td>8.666667</td>\n      <td>2.866667</td>\n      <td>...</td>\n      <td>604.40</td>\n      <td>2.0</td>\n      <td>Lightweight</td>\n      <td>0.0</td>\n      <td>1.0</td>\n      <td>3.0</td>\n      <td>3.0</td>\n      <td>6.0</td>\n      <td>1.0</td>\n      <td>14.0</td>\n    </tr>\n    <tr>\n      <td>3</td>\n      <td>162.56</td>\n      <td>172.72</td>\n      <td>Kevin MacDonald</td>\n      <td>Orthodox</td>\n      <td>135.0</td>\n      <td>Blue</td>\n      <td>29.0</td>\n      <td>18.250000</td>\n      <td>10.250000</td>\n      <td>5.875000</td>\n      <td>...</td>\n      <td>690.25</td>\n      <td>0.0</td>\n      <td>Bantamweight</td>\n      <td>0.0</td>\n      <td>1.0</td>\n      <td>4.0</td>\n      <td>1.0</td>\n      <td>0.0</td>\n      <td>0.0</td>\n      <td>6.0</td>\n    </tr>\n    <tr>\n      <td>4</td>\n      <td>187.96</td>\n      <td>190.50</td>\n      <td>Dan Miragliotta</td>\n      <td>Southpaw</td>\n      <td>264.0</td>\n      <td>Blue</td>\n      <td>26.0</td>\n      <td>7.750000</td>\n      <td>6.750000</td>\n      <td>11.000000</td>\n      <td>...</td>\n      <td>440.75</td>\n      <td>0.0</td>\n      <td>Heavyweight</td>\n      <td>0.0</td>\n      <td>0.0</td>\n      <td>1.0</td>\n      <td>2.0</td>\n      <td>0.0</td>\n      <td>0.0</td>\n      <td>3.0</td>\n    </tr>\n  </tbody>\n</table>\n<p>5 rows × 158 columns</p>\n</div>"
     },
     "metadata": {},
     "execution_count": 5
    }
   ],
   "source": [
    "#  I'd like to have one row per fighter per fight. That is, 2 rows per fight, with a simple \"is_winner\" column.\n",
    "\n",
    "import re\n",
    "\n",
    "\n",
    "r_fighter_cols = [col for col in df_test_stuff.columns if col.startswith(\"R_\")]\n",
    "b_fighter_cols = [col for col in df_test_stuff.columns if col.startswith(\"B_\")]\n",
    "\n",
    "other_cols = [col for col in df_test_stuff.columns if col not in r_fighter_cols and col not in b_fighter_cols]\n",
    "\n",
    "def extractFighters(df_test_stuff, fighter_cols, opp_cols, fighter_prefix, opp_prefix, fighter_color):\n",
    "\n",
    "    fighters_df = df_test_stuff[fighter_cols + other_cols].copy()\n",
    "    fighters_df.columns = [col.replace(fighter_prefix, \"\") for col in fighters_df.columns]\n",
    "    fighters_df[\"is_winner\"] = fighters_df[\"Winner\"] == fighter_color\n",
    "\n",
    "    opp_df = df_test_stuff[opp_cols].copy()\n",
    "    opp_df.columns = [re.sub(r\"^\" + opp_prefix, \"opponent_\", col) for col in opp_df.columns]\n",
    "\n",
    "    fighters_df = pd.concat([fighters_df, opp_df], axis=1)\n",
    "    \n",
    "    return fighters_df\n",
    "\n",
    "r_fighters_df = extractFighters(df_test_stuff, r_fighter_cols, b_fighter_cols, \"R_\", \"B_\", \"Red\")\n",
    "b_fighters_df = extractFighters(df_test_stuff, b_fighter_cols, r_fighter_cols, \"B_\", \"R_\", \"Blue\")\n",
    "\n",
    "fighters_df = pd.concat([r_fighters_df, b_fighters_df], axis=0)\n",
    "fighters_df.head()"
   ]
  },
  {
   "cell_type": "code",
   "execution_count": 6,
   "metadata": {
    "colab": {},
    "colab_type": "code",
    "id": "PNmmUF-USUCI"
   },
   "outputs": [],
   "source": [
    "\n",
    "for col in [col for col in fighters_df.select_dtypes(include=\"number\").columns if col.startswith(\"opponent_\")]:\n",
    "    \n",
    "    col2 = col\n",
    "    col1 = col[9:]\n",
    "    \n",
    "    fighters_df[col1 + \"_ratio\"] = (fighters_df[col1] + 1) / (fighters_df[col2] + 1)\n",
    "    \n",
    "# prevent leakage\n",
    "fighters_df = fighters_df.drop(columns=\"Winner\")\n",
    "\n",
    "# change prefixes to suffixes\n",
    "fighters_df.columns = [col[9:] + \"_opponent\" if col.startswith(\"opponent_\") else col for col in fighters_df.columns]"
   ]
  },
  {
   "cell_type": "code",
   "execution_count": 9,
   "metadata": {
    "colab": {
     "base_uri": "https://localhost:8080/",
     "height": 697
    },
    "colab_type": "code",
    "executionInfo": {
     "elapsed": 376,
     "status": "error",
     "timestamp": 1584562292850,
     "user": {
      "displayName": "Kyle Yates",
      "photoUrl": "https://lh3.googleusercontent.com/a-/AOh14GihSdUuoj8Jqg3faSdJ_YoYcCNfdD4nBcMH0a-eNw=s64",
      "userId": "13984558898084674041"
     },
     "user_tz": 420
    },
    "id": "fCOsbx8rRVJQ",
    "outputId": "584dd5bd-692a-45a3-b1b5-a8b485c329c1"
   },
   "outputs": [
    {
     "output_type": "execute_result",
     "data": {
      "text/plain": "0"
     },
     "metadata": {},
     "execution_count": 9
    }
   ],
   "source": [
    "fighters_df['fighter']"
   ]
  },
  {
   "cell_type": "code",
   "execution_count": 40,
   "metadata": {
    "colab": {},
    "colab_type": "code",
    "id": "73eH9CaAecKo"
   },
   "outputs": [],
   "source": [
    "# Making df.columns display all results without truncation\n",
    "\n",
    "pd.options.display.max_seq_items = None\n",
    "pd.options.display.max_columns = 999"
   ]
  },
  {
   "cell_type": "code",
   "execution_count": 41,
   "metadata": {},
   "outputs": [
    {
     "output_type": "execute_result",
     "data": {
      "text/plain": "00              1.00000   \n2                  0.496129              0.354839              2.16129   \n3                  0.550000              0.250000              2.50000   \n4                  0.310000              0.000000              0.00000   \n\n   avg_TD_landed_opponent  avg_TD_pct_opponent  avg_TOTAL_STR_att_opponent  \\\n0                0.200000             0.100000                   66.400000   \n1                0.500000             0.225000                  158.700000   \n2                0.677419             0.295484                  103.709677   \n3                1.250000             0.287500                  154.750000   \n4                0.000000             0.000000                  204.000000   \n\n   avg_TOTAL_STR_landed_opponent  avg_opp_BODY_att_opponent  \\\n0                      23.600000                   6.400000   \n1                      69.600000                  13.000000   \n2                      52.548387                  17.903226   \n3                      86.750000                  12.250000   \n4                      62.000000                  42.500000   \n\n   avg_opp_BODY_landed_opponent  avg_opp_CLINCH_att_opponent  \\\n0                      4.000000                     1.000000   \n1                      9.300000                    12.800000   \n2                     11.870968                     8.419355   \n3                      6.000000                     6.000000   \n4                     23.500000                     0.500000   \n\n   avg_opp_CLINCH_landed_opponent  avg_opp_DISTANCE_att_opponent  \\\n0                         0.60000                      51.200000   \n1                         9.60000                     101.700000   \n2                         5.83871                      84.548387   \n3                         3.75000                      94.250000   \n4                         0.50000                     205.000000   \n\n   avg_opp_DISTANCE_landed_opponent  avg_opp_GROUND_att_opponent  \\\n0                         17.400000                     0.600000   \n1                         32.000000                     8.100000   \n2                         38.064516                     1.741935   \n3                         26.750000                     1.750000   \n4                         89.500000                     0.000000   \n\n   avg_opp_GROUND_landed_opponent  avg_opp_HEAD_att_opponent  \\\n0                        0.200000                  39.600000   \n1                        6.900000                  97.700000   \n2                        0.935484                  67.645161   \n3                        1.250000                  82.500000   \n4                        0.000000                 152.500000   \n\n   avg_opp_HEAD_landed_opponent  avg_opp_KD_opponent  \\\n0                      9.400000             0.200000   \n1                     30.800000             0.100000   \n2                     25.483871             0.225806   \n3                     21.500000             0.250000   \n4                     56.500000             0.000000   \n\n   avg_opp_LEG_att_opponent  avg_opp_LEG_landed_opponent  \\\n0                   6.80000                     4.800000   \n1                  11.90000                     8.400000   \n2                   9.16129                     7.483871   \n3                   7.25000                     4.250000   \n4                  10.50000                    10.000000   \n\n   avg_opp_PASS_opponent  avg_opp_REV_opponent  avg_opp_SIG_STR_att_opponent  \\\n0               0.000000              0.000000                     52.800000   \n1               1.400000              0.000000                    122.600000   \n2               0.032258              0.032258                     94.709677   \n3               0.000000              0.000000                    102.000000   \n4               0.000000              0.000000                    205.500000   \n\n   avg_opp_SIG_STR_landed_opponent  avg_opp_SIG_STR_pct_opponent  \\\n0                         18.20000                      0.236000   \n1                         48.50000                      0.408000   \n2                         44.83871                      0.453226   \n3                         31.75000                      0.337500   \n4                         90.00000                      0.430000   \n\n   avg_opp_SUB_ATT_opponent  avg_opp_TD_att_opponent  \\\n0                  0.000000                 1.000000   \n1                  0.700000                 2.300000   \n2                  0.096774                 2.096774   \n3                  0.000000                 4.500000   \n4                  0.000000                 0.500000   \n\n   avg_opp_TD_landed_opponent  avg_opp_TD_pct_opponent  \\\n0                    0.400000                 0.100000   \n1                    0.900000                 0.231000   \n2                    0.225806                 0.063548   \n3                    0.750000                 0.097500   \n4                    0.000000                 0.000000   \n\n   avg_opp_TOTAL_STR_att_opponent  avg_opp_TOTAL_STR_landed_opponent  \\\n0                       53.800000                          19.200000   \n1                      151.500000                          75.400000   \n2                      100.387097                          49.774194   \n3                      104.750000                          34.250000   \n4                      205.500000                          90.000000   \n\n   current_lose_streak_opponent  current_win_streak_opponent  draw_opponent  \\\n0                           0.0                          4.0            0.0   \n1                           0.0                          3.0            0.0   \n2                           0.0                          3.0            0.0   \n3                           0.0                          4.0            0.0   \n4                           0.0                          1.0            0.0   \n\n  fighter_opponent  longest_win_streak_opponent  losses_opponent  \\\n0    Marlon Moraes                          4.0              1.0   \n1      Jessica Eye                          3.0              6.0   \n2   Donald Cerrone                          8.0              8.0   \n3         Petr Yan                          4.0              0.0   \n4    Blagoy Ivanov                          1.0              1.0   \n\n   total_rounds_fought_opponent  total_time_fought(seconds)_opponent  \\\n0                           9.0                           419.400000   \n1                          29.0                           849.000000   \n2                          68.0                           581.870968   \n3                           9.0                           652.000000   \n4                           8.0                          1200.000000   \n\n   total_title_bouts_opponent  win_by_Decision_Majority_opponent  \\\n0                         0.0                                0.0   \n1                         0.0                                0.0   \n2                         1.0                                0.0   \n3                         0.0                                0.0   \n4                         0.0                                0.0   \n\n   win_by_Decision_Split_opponent  win_by_Decision_Unanimous_opponent  \\\n0                             1.0                                 0.0   \n1                             2.0                                 1.0   \n2                             0.0                                 7.0   \n3                             0.0                                 2.0   \n4                             0.0                                 1.0   \n\n   win_by_KO/TKO_opponent  win_by_Submission_opponent  \\\n0                     2.0                         1.0   \n1                     0.0                         0.0   \n2                    10.0                         6.0   \n3                     2.0                         0.0   \n4                     0.0                         0.0   \n\n   win_by_TKO_Doctor_Stoppage_opponent  wins_opponent  title_bout  \\\n0                                  0.0            4.0        True   \n1                                  1.0            4.0        True   \n2                                  0.0           23.0       False   \n3                                  0.0            4.0       False   \n4                                  0.0            1.0       False   \n\n   total_rounds_fought  total_time_fought(seconds)  total_title_bouts  \\\n0                 27.0                      742.60                3.0   \n1                 25.0                     1062.00                2.0   \n2                 33.0                      604.40                2.0   \n3                 20.0                      690.25                0.0   \n4                  7.0                      440.75                0.0   \n\n        weight_class  win_by_Decision_Majority  win_by_Decision_Split  \\\n0       Bantamweight                       0.0                    2.0   \n1  Women's Flyweight                       0.0                    1.0   \n2        Lightweight                       0.0                    1.0   \n3       Bantamweight                       0.0                    1.0   \n4        Heavyweight                       0.0                    0.0   \n\n   win_by_Decision_Unanimous  win_by_KO/TKO  win_by_Submission  \\\n0                        4.0            2.0                0.0   \n1                        2.0            0.0                2.0   \n2                        3.0            3.0                6.0   \n3                        4.0            1.0                0.0   \n4                        1.0            2.0                0.0   \n\n   win_by_TKO_Doctor_Stoppage  wins  Height_cms_ratio  Reach_cms_ratio  \\\n0                         0.0   8.0          0.969877         0.955485   \n1                         0.0   5.0          0.984938         1.000000   \n2                         1.0  14.0          0.972750         1.040875   \n3                         0.0   6.0          0.955485         1.014838   \n4                         0.0   3.0          1.042021         1.027250   \n\n   Weight_lbs_ratio  age_ratio  avg_BODY_att_ratio  avg_BODY_landed_ratio  \\\n0          1.000000   1.031250            2.245098               2.485714   \n1          1.000000   0.969697            0.833333               0.862801   \n2          1.000000   0.972973            0.909007               0.784468   \n3          1.000000   1.111111            1.069444               0.750000   \n4          1.055777   0.818182            0.486111               0.500000   \n\n   avg_CLINCH_att_ratio  avg_CLINCH_landed_ratio  avg_DISTANCE_att_ratio  \\\n0             15.000000                12.000000                1.194969   \n1              0.803571                 0.946644                0.709171   \n2              0.499444                 0.507385                1.366115   \n3              0.466102                 0.427083                0.958145   \n4              3.428571                 2.750000                0.256188   \n\n   avg_DISTANCE_landed_ratio  avg_GROUND_att_ratio  avg_GROUND_landed_ratio  \\\n0                   1.273148              2.888889                 2.500000   \n1                   0.861783              5.714286                 6.009852   \n2                   1.275034              0.971947                 1.095749   \n3                   0.844221              0.142857                 0.141304   \n4                   0.425620              1.500000                 1.500000   \n\n   avg_HEAD_att_ratio  avg_HEAD_landed_ratio  avg_KD_ratio  avg_LEG_att_ratio  \\\n0            1.516129               2.040984      0.777778           0.732558   \n1            0.757269               1.151515      1.000000           1.525242   \n2            1.423747               1.508777      0.729412           0.982222   \n3            0.695096               0.456621      0.916667           3.500000   \n4            0.278976               0.516304      1.500000           1.583333   \n\n   avg_LEG_landed_ratio  avg_PASS_ratio  avg_REV_ratio  avg_SIG_STR_att_ratio  \\\n0              0.734375        1.571429       1.000000                    NaN   \n1              1.403061        1.507937       1.142857                    NaN   \n2              0.924694        0.688889       1.033333                    NaN   \n3              3.571429        0.750000       0.800000                    NaN   \n4              1.333333        1.250000       1.000000                    NaN   \n\n   avg_SIG_STR_landed_ratio  avg_SIG_STR_pct_ratio  avg_SUB_ATT_ratio  \\\n0                       NaN                    NaN           0.785714   \n1                       NaN                    NaN           0.840336   \n2                       NaN                    NaN           1.476190   \n3                       NaN                    NaN           0.800000   \n4                       NaN                    NaN           1.000000   \n\n   avg_TD_att_ratio  avg_TD_landed_ratio  avg_TD_pct_ratio  \\\n0          3.500000             2.416667          1.325455   \n1          3.071429             2.285714          1.307289   \n2          0.611565             0.834615          0.985989   \n3          0.928571             0.722222          0.857282   \n4          1.500000             1.000000          1.000000   \n\n   avg_TOTAL_STR_att_ratio  avg_TOTAL_STR_landed_ratio  \\\n0                      NaN                         NaN   \n1                      NaN                         NaN   \n2                      NaN                         NaN   \n3                      NaN                         NaN   \n4                      NaN                         NaN   \n\n   avg_opp_BODY_att_ratio  avg_opp_BODY_landed_ratio  \\\n0                1.932432                   1.960000   \n1                1.826531                   1.470180   \n2                0.818203                   0.709607   \n3                1.603774                   2.053571   \n4                0.166667                   0.234694   \n\n   avg_opp_CLINCH_att_ratio  avg_opp_CLINCH_landed_ratio  \\\n0                  4.250000                     3.812500   \n1                  0.838509                     0.835580   \n2                  0.403425                     0.253459   \n3                  1.125000                     1.394737   \n4                  3.666667                     3.000000   \n\n   avg_opp_DISTANCE_att_ratio  avg_opp_DISTANCE_landed_ratio  \\\n0                    1.752874                       1.510870   \n1                    0.969537                       1.017316   \n2                    1.076194                       0.849876   \n3                    1.093176                       1.423423   \n4                    0.212379                       0.190608   \n\n   avg_opp_GROUND_att_ratio  avg_opp_GROUND_landed_ratio  \\\n0                  1.125000                     1.083333   \n1                  0.816327                     0.669078   \n2                  2.139608                     1.963333   \n3                  0.681818                     0.777778   \n4                  8.750000                     3.750000   \n\n   avg_opp_HEAD_att_ratio  avg_opp_HEAD_landed_ratio  avg_opp_KD_ratio  \\\n0                1.899015                   1.759615          0.916667   \n1                0.636850                   0.422282          0.909091   \n2                1.154731                   0.913764          1.033333   \n3                0.938623                   0.950000          0.900000   \n4                0.288274                   0.260870          1.250000   \n\n   avg_opp_LEG_att_ratio  avg_opp_LEG_landed_ratio  avg_opp_PASS_ratio  \\\n0               1.333333                  1.224138            1.000000   \n1               2.336656                  2.036474            0.892857   \n2               0.688889                  0.636502            1.291667   \n3               1.727273                  2.309524            1.000000   \n4               0.565217                  0.431818            1.750000   \n\n   avg_opp_REV_ratio  avg_opp_SIG_STR_att_ratio  avg_opp_SIG_STR_landed_ratio  \\\n0           1.000000                        NaN                           NaN   \n1           1.000000                        NaN                           NaN   \n2           1.097917                        NaN                           NaN   \n3           1.000000                        NaN                           NaN   \n4           1.000000                        NaN                           NaN   \n\n   avg_opp_SIG_STR_pct_ratio  avg_opp_SUB_ATT_ratio  avg_opp_TD_att_ratio  \\\n0                        NaN               1.000000              0.950000   \n1                        NaN               0.756303              1.298701   \n2                        NaN               0.972549              1.248611   \n3                        NaN               1.000000              0.613636   \n4                        NaN               1.000000              1.333333   \n\n   avg_opp_TD_landed_ratio  avg_opp_TD_pct_ratio  avg_opp_TOTAL_STR_att_ratio  \\\n0                 0.785714              0.954545                          NaN   \n1                 0.977444              0.931879                          NaN   \n2                 1.359649              1.063735                          NaN   \n3                 0.571429              0.911162                          NaN   \n4                 1.000000              1.000000                          NaN   \n\n   avg_opp_TOTAL_STR_landed_ratio  current_lose_streak_ratio  \\\n0                             NaN                        1.0   \n1                             NaN                        1.0   \n2                             NaN                        1.0   \n3                             NaN                        2.0   \n4                             NaN                        2.0   \n\n   current_win_streak_ratio  draw_ratio  longest_win_streak_ratio  \\\n0                      1.00         1.0                  1.000000   \n1                      0.75         1.0                  0.750000   \n2                      3.00         1.0                  1.333333   \n3                      0.20         1.0                  1.200000   \n4                      0.50         1.0                  2.000000   \n\n   losses_ratio  total_rounds_fought_ratio  total_time_fought(seconds)_ratio  \\\n0      1.500000                   2.800000                          1.768792   \n1      0.428571                   0.866667                          1.250588   \n2      0.222222                   0.492754                          1.038652   \n3      3.000000                   2.100000                          1.058576   \n4      1.000000                   0.888889                          0.367818   \n\n   total_title_bouts_ratio  win_by_Decision_Majority_ratio  \\\n0                      4.0                             1.0   \n1                      3.0                             1.0   \n2                      1.5                             1.0   \n3                      1.0                             1.0   \n4                      1.0                             1.0   \n\n   win_by_Decision_Split_ratio  win_by_Decision_Unanimous_ratio  \\\n0                     1.500000                         5.000000   \n1                     0.666667                         1.500000   \n2                     2.000000                         0.500000   \n3                     2.000000                         1.666667   \n4                     1.000000                         1.000000   \n\n   win_by_KO/TKO_ratio  win_by_Submission_ratio  \\\n0             1.000000                      0.5   \n1             1.000000                      3.0   \n2             0.363636                      1.0   \n3             0.666667                      1.0   \n4             3.000000                      1.0   \n\n   win_by_TKO_Doctor_Stoppage_ratio  wins_ratio  \n0                               1.0       1.800  \n1                               0.5       1.200  \n2                               2.0       0.625  \n3                               1.0       1.400  \n4                               1.0       2.000  ",
      "text/html": "<div>\n<style scoped>\n    .dataframe tbody tr th:only-of-type {\n        vertical-align: middle;\n    }\n\n    .dataframe tbody tr th {\n        vertical-align: top;\n    }\n\n    .dataframe thead th {\n        text-align: right;\n    }\n</style>\n<table border=\"1\" class=\"dataframe\">\n  <thead>\n    <tr style=\"text-align: right;\">\n      <th></th>\n      <th>Height_cms</th>\n      <th>Reach_cms</th>\n      <th>Referee</th>\n      <th>Stance</th>\n      <th>Weight_lbs</th>\n      <th>age</th>\n      <th>avg_BODY_att</th>\n      <th>avg_BODY_landed</th>\n      <th>avg_CLINCH_att</th>\n      <th>avg_CLINCH_landed</th>\n      <th>avg_DISTANCE_att</th>\n      <th>avg_DISTANCE_landed</th>\n      <th>avg_GROUND_att</th>\n      <th>avg_GROUND_landed</th>\n      <th>avg_HEAD_att</th>\n      <th>avg_HEAD_landed</th>\n      <th>avg_KD</th>\n      <th>avg_LEG_att</th>\n      <th>avg_LEG_landed</th>\n      <th>avg_PASS</th>\n      <th>avg_REV</th>\n      <th>avg_SIG_STR_att</th>\n      <th>avg_SIG_STR_landed</th>\n      <th>avg_SIG_STR_pct</th>\n      <th>avg_SIG_STatt</th>\n      <th>avg_SIG_STlanded</th>\n      <th>avg_SIG_STpct</th>\n      <th>avg_SUATT</th>\n      <th>avg_SUB_ATT</th>\n      <th>avg_TD_att</th>\n      <th>avg_TD_landed</th>\n      <th>avg_TD_pct</th>\n      <th>avg_TOTAL_STR_att</th>\n      <th>avg_TOTAL_STR_landed</th>\n      <th>avg_TOTAL_STatt</th>\n      <th>avg_TOTAL_STlanded</th>\n      <th>avg_opp_BODY_att</th>\n      <th>avg_opp_BODY_landed</th>\n      <th>avg_opp_CLINCH_att</th>\n      <th>avg_opp_CLINCH_landed</th>\n      <th>avg_opp_DISTANCE_att</th>\n      <th>avg_opp_DISTANCE_landed</th>\n      <th>avg_opp_GROUND_att</th>\n      <th>avg_opp_GROUND_landed</th>\n      <th>avg_opp_HEAD_att</th>\n      <th>avg_opp_HEAD_landed</th>\n      <th>avg_opp_KD</th>\n      <th>avg_opp_LEG_att</th>\n      <th>avg_opp_LEG_landed</th>\n      <th>avg_opp_PASS</th>\n      <th>avg_opp_REV</th>\n      <th>avg_opp_SIG_STR_att</th>\n      <th>avg_opp_SIG_STR_landed</th>\n      <th>avg_opp_SIG_STR_pct</th>\n      <th>avg_opp_SIG_STatt</th>\n      <th>avg_opp_SIG_STlanded</th>\n      <th>avg_opp_SIG_STpct</th>\n      <th>avg_opp_SUATT</th>\n      <th>avg_opp_SUB_ATT</th>\n      <th>avg_opp_TD_att</th>\n      <th>avg_opp_TD_landed</th>\n      <th>avg_opp_TD_pct</th>\n      <th>avg_opp_TOTAL_STR_att</th>\n      <th>avg_opp_TOTAL_STR_landed</th>\n      <th>avg_opp_TOTAL_STatt</th>\n      <th>avg_opp_TOTAL_STlanded</th>\n      <th>current_lose_streak</th>\n      <th>current_win_streak</th>\n      <th>date</th>\n      <th>draw</th>\n      <th>fighter</th>\n      <th>is_winner</th>\n      <th>location</th>\n      <th>longest_win_streak</th>\n      <th>losses</th>\n      <th>no_of_rounds</th>\n      <th>Height_cms_opponent</th>\n      <th>Reach_cms_opponent</th>\n      <th>Stance_opponent</th>\n      <th>Weight_lbs_opponent</th>\n      <th>age_opponent</th>\n      <th>avg_BODY_att_opponent</th>\n      <th>avg_BODY_landed_opponent</th>\n      <th>avg_CLINCH_att_opponent</th>\n      <th>avg_CLINCH_landed_opponent</th>\n      <th>avg_DISTANCE_att_opponent</th>\n      <th>avg_DISTANCE_landed_opponent</th>\n      <th>avg_GROUND_att_opponent</th>\n      <th>avg_GROUND_landed_opponent</th>\n      <th>avg_HEAD_att_opponent</th>\n      <th>avg_HEAD_landed_opponent</th>\n      <th>avg_KD_opponent</th>\n      <th>avg_LEG_att_opponent</th>\n      <th>avg_LEG_landed_opponent</th>\n      <th>avg_PASS_opponent</th>\n      <th>avg_REV_opponent</th>\n      <th>avg_SIG_STR_att_opponent</th>\n      <th>avg_SIG_STR_landed_opponent</th>\n      <th>avg_SIG_STR_pct_opponent</th>\n      <th>avg_SUB_ATT_opponent</th>\n      <th>avg_TD_att_opponent</th>\n      <th>avg_TD_landed_opponent</th>\n      <th>avg_TD_pct_opponent</th>\n      <th>avg_TOTAL_STR_att_opponent</th>\n      <th>avg_TOTAL_STR_landed_opponent</th>\n      <th>avg_opp_BODY_att_opponent</th>\n      <th>avg_opp_BODY_landed_opponent</th>\n      <th>avg_opp_CLINCH_att_opponent</th>\n      <th>avg_opp_CLINCH_landed_opponent</th>\n      <th>avg_opp_DISTANCE_att_opponent</th>\n      <th>avg_opp_DISTANCE_landed_opponent</th>\n      <th>avg_opp_GROUND_att_opponent</th>\n      <th>avg_opp_GROUND_landed_opponent</th>\n      <th>avg_opp_HEAD_att_opponent</th>\n      <th>avg_opp_HEAD_landed_opponent</th>\n      <th>avg_opp_KD_opponent</th>\n      <th>avg_opp_LEG_att_opponent</th>\n      <th>avg_opp_LEG_landed_opponent</th>\n      <th>avg_opp_PASS_opponent</th>\n      <th>avg_opp_REV_opponent</th>\n      <th>avg_opp_SIG_STR_att_opponent</th>\n      <th>avg_opp_SIG_STR_landed_opponent</th>\n      <th>avg_opp_SIG_STR_pct_opponent</th>\n      <th>avg_opp_SUB_ATT_opponent</th>\n      <th>avg_opp_TD_att_opponent</th>\n      <th>avg_opp_TD_landed_opponent</th>\n      <th>avg_opp_TD_pct_opponent</th>\n      <th>avg_opp_TOTAL_STR_att_opponent</th>\n      <th>avg_opp_TOTAL_STR_landed_opponent</th>\n      <th>current_lose_streak_opponent</th>\n      <th>current_win_streak_opponent</th>\n      <th>draw_opponent</th>\n      <th>fighter_opponent</th>\n      <th>longest_win_streak_opponent</th>\n      <th>losses_opponent</th>\n      <th>total_rounds_fought_opponent</th>\n      <th>total_time_fought(seconds)_opponent</th>\n      <th>total_title_bouts_opponent</th>\n      <th>win_by_Decision_Majority_opponent</th>\n      <th>win_by_Decision_Split_opponent</th>\n      <th>win_by_Decision_Unanimous_opponent</th>\n      <th>win_by_KO/TKO_opponent</th>\n      <th>win_by_Submission_opponent</th>\n      <th>win_by_TKO_Doctor_Stoppage_opponent</th>\n      <th>wins_opponent</th>\n      <th>title_bout</th>\n      <th>total_rounds_fought</th>\n      <th>total_time_fought(seconds)</th>\n      <th>total_title_bouts</th>\n      <th>weight_class</th>\n      <th>win_by_Decision_Majority</th>\n      <th>win_by_Decision_Split</th>\n      <th>win_by_Decision_Unanimous</th>\n      <th>win_by_KO/TKO</th>\n      <th>win_by_Submission</th>\n      <th>win_by_TKO_Doctor_Stoppage</th>\n      <th>wins</th>\n      <th>Height_cms_ratio</th>\n      <th>Reach_cms_ratio</th>\n      <th>Weight_lbs_ratio</th>\n      <th>age_ratio</th>\n      <th>avg_BODY_att_ratio</th>\n      <th>avg_BODY_landed_ratio</th>\n      <th>avg_CLINCH_att_ratio</th>\n      <th>avg_CLINCH_landed_ratio</th>\n      <th>avg_DISTANCE_att_ratio</th>\n      <th>avg_DISTANCE_landed_ratio</th>\n      <th>avg_GROUND_att_ratio</th>\n      <th>avg_GROUND_landed_ratio</th>\n      <th>avg_HEAD_att_ratio</th>\n      <th>avg_HEAD_landed_ratio</th>\n      <th>avg_KD_ratio</th>\n      <th>avg_LEG_att_ratio</th>\n      <th>avg_LEG_landed_ratio</th>\n      <th>avg_PASS_ratio</th>\n      <th>avg_REV_ratio</th>\n      <th>avg_SIG_STR_att_ratio</th>\n      <th>avg_SIG_STR_landed_ratio</th>\n      <th>avg_SIG_STR_pct_ratio</th>\n      <th>avg_SUB_ATT_ratio</th>\n      <th>avg_TD_att_ratio</th>\n      <th>avg_TD_landed_ratio</th>\n      <th>avg_TD_pct_ratio</th>\n      <th>avg_TOTAL_STR_att_ratio</th>\n      <th>avg_TOTAL_STR_landed_ratio</th>\n      <th>avg_opp_BODY_att_ratio</th>\n      <th>avg_opp_BODY_landed_ratio</th>\n      <th>avg_opp_CLINCH_att_ratio</th>\n      <th>avg_opp_CLINCH_landed_ratio</th>\n      <th>avg_opp_DISTANCE_att_ratio</th>\n      <th>avg_opp_DISTANCE_landed_ratio</th>\n      <th>avg_opp_GROUND_att_ratio</th>\n      <th>avg_opp_GROUND_landed_ratio</th>\n      <th>avg_opp_HEAD_att_ratio</th>\n      <th>avg_opp_HEAD_landed_ratio</th>\n      <th>avg_opp_KD_ratio</th>\n      <th>avg_opp_LEG_att_ratio</th>\n      <th>avg_opp_LEG_landed_ratio</th>\n      <th>avg_opp_PASS_ratio</th>\n      <th>avg_opp_REV_ratio</th>\n      <th>avg_opp_SIG_STR_att_ratio</th>\n      <th>avg_opp_SIG_STR_landed_ratio</th>\n      <th>avg_opp_SIG_STR_pct_ratio</th>\n      <th>avg_opp_SUB_ATT_ratio</th>\n      <th>avg_opp_TD_att_ratio</th>\n      <th>avg_opp_TD_landed_ratio</th>\n      <th>avg_opp_TD_pct_ratio</th>\n      <th>avg_opp_TOTAL_STR_att_ratio</th>\n      <th>avg_opp_TOTAL_STR_landed_ratio</th>\n      <th>current_lose_streak_ratio</th>\n      <th>current_win_streak_ratio</th>\n      <th>draw_ratio</th>\n      <th>longest_win_streak_ratio</th>\n      <th>losses_ratio</th>\n      <th>total_rounds_fought_ratio</th>\n      <th>total_time_fought(seconds)_ratio</th>\n      <th>total_title_bouts_ratio</th>\n      <th>win_by_Decision_Majority_ratio</th>\n      <th>win_by_Decision_Split_ratio</th>\n      <th>win_by_Decision_Unanimous_ratio</th>\n      <th>win_by_KO/TKO_ratio</th>\n      <th>win_by_Submission_ratio</th>\n      <th>win_by_TKO_Doctor_Stoppage_ratio</th>\n      <th>wins_ratio</th>\n    </tr>\n  </thead>\n  <tbody>\n    <tr>\n      <td>0</td>\n      <td>162.56</td>\n      <td>162.56</td>\n      <td>Marc Goddard</td>\n      <td>Orthodox</td>\n      <td>135.0</td>\n      <td>32.0</td>\n      <td>21.900000</td>\n      <td>16.400000</td>\n      <td>17.000000</td>\n      <td>11.000000</td>\n      <td>75.000000</td>\n      <td>26.500000</td>\n      <td>9.400000</td>\n      <td>6.500000</td>\n      <td>74.200000</td>\n      <td>23.90</td>\n      <td>0.400</td>\n      <td>5.300000</td>\n      <td>3.700000</td>\n      <td>1.200000</td>\n      <td>0.000000</td>\n      <td>NaN</td>\n      <td>NaN</td>\n      <td>NaN</td>\n      <td>101.400000</td>\n      <td>44.000000</td>\n      <td>0.466000</td>\n      <td>NaN</td>\n      <td>0.100000</td>\n      <td>5.300000</td>\n      <td>1.900000</td>\n      <td>0.458000</td>\n      <td>NaN</td>\n      <td>NaN</td>\n      <td>129.900000</td>\n      <td>69.100000</td>\n      <td>13.300000</td>\n      <td>8.800000</td>\n      <td>7.500000</td>\n      <td>5.100000</td>\n      <td>90.500000</td>\n      <td>26.800000</td>\n      <td>0.800000</td>\n      <td>0.300000</td>\n      <td>76.100000</td>\n      <td>17.300000</td>\n      <td>0.100000</td>\n      <td>9.400000</td>\n      <td>6.100000</td>\n      <td>0.000000</td>\n      <td>0.000000</td>\n      <td>NaN</td>\n      <td>NaN</td>\n      <td>NaN</td>\n      <td>98.800000</td>\n      <td>32.200000</td>\n      <td>0.336000</td>\n      <td>NaN</td>\n      <td>0.000000</td>\n      <td>0.900000</td>\n      <td>0.100000</td>\n      <td>0.050000</td>\n      <td>NaN</td>\n      <td>NaN</td>\n      <td>110.500000</td>\n      <td>43.300000</td>\n      <td>0.0</td>\n      <td>4.0</td>\n      <td>2019-06-08</td>\n      <td>0.0</td>\n      <td>Henry Cejudo</td>\n      <td>True</td>\n      <td>Chicago, Illinois, USA</td>\n      <td>4.0</td>\n      <td>2.0</td>\n      <td>5</td>\n      <td>167.64</td>\n      <td>170.18</td>\n      <td>Orthodox</td>\n      <td>135.0</td>\n      <td>31.0</td>\n      <td>9.200000</td>\n      <td>6.000000</td>\n      <td>0.200000</td>\n      <td>0.000000</td>\n      <td>62.600000</td>\n      <td>20.600000</td>\n      <td>2.600000</td>\n      <td>2.000000</td>\n      <td>48.600000</td>\n      <td>11.200000</td>\n      <td>0.800000</td>\n      <td>7.6</td>\n      <td>5.400000</td>\n      <td>0.400000</td>\n      <td>0.000000</td>\n      <td>65.40</td>\n      <td>22.600000</td>\n      <td>0.466000</td>\n      <td>0.400000</td>\n      <td>0.80000</td>\n      <td>0.200000</td>\n      <td>0.100000</td>\n      <td>66.400000</td>\n      <td>23.600000</td>\n      <td>6.400000</td>\n      <td>4.000000</td>\n      <td>1.000000</td>\n      <td>0.60000</td>\n      <td>51.200000</td>\n      <td>17.400000</td>\n      <td>0.600000</td>\n      <td>0.200000</td>\n      <td>39.600000</td>\n      <td>9.400000</td>\n      <td>0.200000</td>\n      <td>6.80000</td>\n      <td>4.800000</td>\n      <td>0.000000</td>\n      <td>0.000000</td>\n      <td>52.800000</td>\n      <td>18.20000</td>\n      <td>0.236000</td>\n      <td>0.000000</td>\n      <td>1.000000</td>\n      <td>0.400000</td>\n      <td>0.100000</td>\n      <td>53.800000</td>\n      <td>19.200000</td>\n      <td>0.0</td>\n      <td>4.0</td>\n      <td>0.0</td>\n      <td>Marlon Moraes</td>\n      <td>4.0</td>\n      <td>1.0</td>\n      <td>9.0</td>\n      <td>419.400000</td>\n      <td>0.0</td>\n      <td>0.0</td>\n      <td>1.0</td>\n      <td>0.0</td>\n      <td>2.0</td>\n      <td>1.0</td>\n      <td>0.0</td>\n      <td>4.0</td>\n      <td>True</td>\n      <td>27.0</td>\n      <td>742.60</td>\n      <td>3.0</td>\n      <td>Bantamweight</td>\n      <td>0.0</td>\n      <td>2.0</td>\n      <td>4.0</td>\n      <td>2.0</td>\n      <td>0.0</td>\n      <td>0.0</td>\n      <td>8.0</td>\n      <td>0.969877</td>\n      <td>0.955485</td>\n      <td>1.000000</td>\n      <td>1.031250</td>\n      <td>2.245098</td>\n      <td>2.485714</td>\n      <td>15.000000</td>\n      <td>12.000000</td>\n      <td>1.194969</td>\n      <td>1.273148</td>\n      <td>2.888889</td>\n      <td>2.500000</td>\n      <td>1.516129</td>\n      <td>2.040984</td>\n      <td>0.777778</td>\n      <td>0.732558</td>\n      <td>0.734375</td>\n      <td>1.571429</td>\n      <td>1.000000</td>\n      <td>NaN</td>\n      <td>NaN</td>\n      <td>NaN</td>\n      <td>0.785714</td>\n      <td>3.500000</td>\n      <td>2.416667</td>\n      <td>1.325455</td>\n      <td>NaN</td>\n      <td>NaN</td>\n      <td>1.932432</td>\n      <td>1.960000</td>\n      <td>4.250000</td>\n      <td>3.812500</td>\n      <td>1.752874</td>\n      <td>1.510870</td>\n      <td>1.125000</td>\n      <td>1.083333</td>\n      <td>1.899015</td>\n      <td>1.759615</td>\n      <td>0.916667</td>\n      <td>1.333333</td>\n      <td>1.224138</td>\n      <td>1.000000</td>\n      <td>1.000000</td>\n      <td>NaN</td>\n      <td>NaN</td>\n      <td>NaN</td>\n      <td>1.000000</td>\n      <td>0.950000</td>\n      <td>0.785714</td>\n      <td>0.954545</td>\n      <td>NaN</td>\n      <td>NaN</td>\n      <td>1.0</td>\n      <td>1.00</td>\n      <td>1.0</td>\n      <td>1.000000</td>\n      <td>1.500000</td>\n      <td>2.800000</td>\n      <td>1.768792</td>\n      <td>4.0</td>\n      <td>1.0</td>\n      <td>1.500000</td>\n      <td>5.000000</td>\n      <td>1.000000</td>\n      <td>0.5</td>\n      <td>1.0</td>\n      <td>1.800</td>\n    </tr>\n    <tr>\n      <td>1</td>\n      <td>165.10</td>\n      <td>167.64</td>\n      <td>Robert Madrigal</td>\n      <td>Southpaw</td>\n      <td>125.0</td>\n      <td>31.0</td>\n      <td>12.000000</td>\n      <td>7.714286</td>\n      <td>9.285714</td>\n      <td>6.857143</td>\n      <td>88.142857</td>\n      <td>36.142857</td>\n      <td>18.428571</td>\n      <td>16.428571</td>\n      <td>84.571429</td>\n      <td>37.00</td>\n      <td>0.000</td>\n      <td>19.285714</td>\n      <td>14.714286</td>\n      <td>1.714286</td>\n      <td>0.142857</td>\n      <td>NaN</td>\n      <td>NaN</td>\n      <td>NaN</td>\n      <td>115.857143</td>\n      <td>59.428571</td>\n      <td>0.575714</td>\n      <td>NaN</td>\n      <td>0.428571</td>\n      <td>5.142857</td>\n      <td>2.428571</td>\n      <td>0.601429</td>\n      <td>NaN</td>\n      <td>NaN</td>\n      <td>161.571429</td>\n      <td>102.857143</td>\n      <td>24.571429</td>\n      <td>14.142857</td>\n      <td>10.571429</td>\n      <td>7.857143</td>\n      <td>98.571429</td>\n      <td>32.571429</td>\n      <td>6.428571</td>\n      <td>4.285714</td>\n      <td>61.857143</td>\n      <td>12.428571</td>\n      <td>0.000000</td>\n      <td>29.142857</td>\n      <td>18.142857</td>\n      <td>1.142857</td>\n      <td>0.000000</td>\n      <td>NaN</td>\n      <td>NaN</td>\n      <td>NaN</td>\n      <td>115.571429</td>\n      <td>44.714286</td>\n      <td>0.437143</td>\n      <td>NaN</td>\n      <td>0.285714</td>\n      <td>3.285714</td>\n      <td>0.857143</td>\n      <td>0.147143</td>\n      <td>NaN</td>\n      <td>NaN</td>\n      <td>158.142857</td>\n      <td>82.285714</td>\n      <td>0.0</td>\n      <td>2.0</td>\n      <td>2019-06-08</td>\n      <td>0.0</td>\n      <td>Valentina Shevchenko</td>\n      <td>True</td>\n      <td>Chicago, Illinois, USA</td>\n      <td>2.0</td>\n      <td>2.0</td>\n      <td>5</td>\n      <td>167.64</td>\n      <td>167.64</td>\n      <td>Orthodox</td>\n      <td>125.0</td>\n      <td>32.0</td>\n      <td>14.600000</td>\n      <td>9.100000</td>\n      <td>11.800000</td>\n      <td>7.300000</td>\n      <td>124.700000</td>\n      <td>42.100000</td>\n      <td>2.400000</td>\n      <td>1.900000</td>\n      <td>112.000000</td>\n      <td>32.000000</td>\n      <td>0.000000</td>\n      <td>12.3</td>\n      <td>10.200000</td>\n      <td>0.800000</td>\n      <td>0.000000</td>\n      <td>138.90</td>\n      <td>51.300000</td>\n      <td>0.399000</td>\n      <td>0.700000</td>\n      <td>1.00000</td>\n      <td>0.500000</td>\n      <td>0.225000</td>\n      <td>158.700000</td>\n      <td>69.600000</td>\n      <td>13.000000</td>\n      <td>9.300000</td>\n      <td>12.800000</td>\n      <td>9.60000</td>\n      <td>101.700000</td>\n      <td>32.000000</td>\n      <td>8.100000</td>\n      <td>6.900000</td>\n      <td>97.700000</td>\n      <td>30.800000</td>\n      <td>0.100000</td>\n      <td>11.90000</td>\n      <td>8.400000</td>\n      <td>1.400000</td>\n      <td>0.000000</td>\n      <td>122.600000</td>\n      <td>48.50000</td>\n      <td>0.408000</td>\n      <td>0.700000</td>\n      <td>2.300000</td>\n      <td>0.900000</td>\n      <td>0.231000</td>\n      <td>151.500000</td>\n      <td>75.400000</td>\n      <td>0.0</td>\n      <td>3.0</td>\n      <td>0.0</td>\n      <td>Jessica Eye</td>\n      <td>3.0</td>\n      <td>6.0</td>\n      <td>29.0</td>\n      <td>849.000000</td>\n      <td>0.0</td>\n      <td>0.0</td>\n      <td>2.0</td>\n      <td>1.0</td>\n      <td>0.0</td>\n      <td>0.0</td>\n      <td>1.0</td>\n      <td>4.0</td>\n      <td>True</td>\n      <td>25.0</td>\n      <td>1062.00</td>\n      <td>2.0</td>\n      <td>Women's Flyweight</td>\n      <td>0.0</td>\n      <td>1.0</td>\n      <td>2.0</td>\n      <td>0.0</td>\n      <td>2.0</td>\n      <td>0.0</td>\n      <td>5.0</td>\n      <td>0.984938</td>\n      <td>1.000000</td>\n      <td>1.000000</td>\n      <td>0.969697</td>\n      <td>0.833333</td>\n      <td>0.862801</td>\n      <td>0.803571</td>\n      <td>0.946644</td>\n      <td>0.709171</td>\n      <td>0.861783</td>\n      <td>5.714286</td>\n      <td>6.009852</td>\n      <td>0.757269</td>\n      <td>1.151515</td>\n      <td>1.000000</td>\n      <td>1.525242</td>\n      <td>1.403061</td>\n      <td>1.507937</td>\n      <td>1.142857</td>\n      <td>NaN</td>\n      <td>NaN</td>\n      <td>NaN</td>\n      <td>0.840336</td>\n      <td>3.071429</td>\n      <td>2.285714</td>\n      <td>1.307289</td>\n      <td>NaN</td>\n      <td>NaN</td>\n      <td>1.826531</td>\n      <td>1.470180</td>\n      <td>0.838509</td>\n      <td>0.835580</td>\n      <td>0.969537</td>\n      <td>1.017316</td>\n      <td>0.816327</td>\n      <td>0.669078</td>\n      <td>0.636850</td>\n      <td>0.422282</td>\n      <td>0.909091</td>\n      <td>2.336656</td>\n      <td>2.036474</td>\n      <td>0.892857</td>\n      <td>1.000000</td>\n      <td>NaN</td>\n      <td>NaN</td>\n      <td>NaN</td>\n      <td>0.756303</td>\n      <td>1.298701</td>\n      <td>0.977444</td>\n      <td>0.931879</td>\n      <td>NaN</td>\n      <td>NaN</td>\n      <td>1.0</td>\n      <td>0.75</td>\n      <td>1.0</td>\n      <td>0.750000</td>\n      <td>0.428571</td>\n      <td>0.866667</td>\n      <td>1.250588</td>\n      <td>3.0</td>\n      <td>1.0</td>\n      <td>0.666667</td>\n      <td>1.500000</td>\n      <td>1.000000</td>\n      <td>3.0</td>\n      <td>0.5</td>\n      <td>1.200</td>\n    </tr>\n    <tr>\n      <td>2</td>\n      <td>180.34</td>\n      <td>193.04</td>\n      <td>Dan Miragliotta</td>\n      <td>Orthodox</td>\n      <td>155.0</td>\n      <td>35.0</td>\n      <td>13.866667</td>\n      <td>8.666667</td>\n      <td>2.866667</td>\n      <td>1.733333</td>\n      <td>116.133333</td>\n      <td>49.466667</td>\n      <td>5.333333</td>\n      <td>4.266667</td>\n      <td>96.733333</td>\n      <td>35.60</td>\n      <td>0.200</td>\n      <td>13.733333</td>\n      <td>11.200000</td>\n      <td>0.333333</td>\n      <td>0.133333</td>\n      <td>NaN</td>\n      <td>NaN</td>\n      <td>NaN</td>\n      <td>124.333333</td>\n      <td>55.466667</td>\n      <td>0.430000</td>\n      <td>NaN</td>\n      <td>1.000000</td>\n      <td>0.933333</td>\n      <td>0.400000</td>\n      <td>0.277333</td>\n      <td>NaN</td>\n      <td>NaN</td>\n      <td>133.000000</td>\n      <td>63.400000</td>\n      <td>14.466667</td>\n      <td>8.133333</td>\n      <td>2.800000</td>\n      <td>0.733333</td>\n      <td>91.066667</td>\n      <td>32.200000</td>\n      <td>4.866667</td>\n      <td>2.800000</td>\n      <td>78.266667</td>\n      <td>23.200000</td>\n      <td>0.266667</td>\n      <td>6.000000</td>\n      <td>4.400000</td>\n      <td>0.333333</td>\n      <td>0.133333</td>\n      <td>NaN</td>\n      <td>NaN</td>\n      <td>NaN</td>\n      <td>98.733333</td>\n      <td>35.733333</td>\n      <td>0.340000</td>\n      <td>NaN</td>\n      <td>0.066667</td>\n      <td>2.866667</td>\n      <td>0.666667</td>\n      <td>0.131333</td>\n      <td>NaN</td>\n      <td>NaN</td>\n      <td>102.133333</td>\n      <td>38.600000</td>\n      <td>0.0</td>\n      <td>11.0</td>\n      <td>2019-06-08</td>\n      <td>0.0</td>\n      <td>Tony Ferguson</td>\n      <td>True</td>\n      <td>Chicago, Illinois, USA</td>\n      <td>11.0</td>\n      <td>1.0</td>\n      <td>3</td>\n      <td>185.42</td>\n      <td>185.42</td>\n      <td>Orthodox</td>\n      <td>155.0</td>\n      <td>36.0</td>\n      <td>15.354839</td>\n      <td>11.322581</td>\n      <td>6.741935</td>\n      <td>4.387097</td>\n      <td>84.741935</td>\n      <td>38.580645</td>\n      <td>5.516129</td>\n      <td>3.806452</td>\n      <td>67.645161</td>\n      <td>23.258065</td>\n      <td>0.645161</td>\n      <td>14.0</td>\n      <td>12.193548</td>\n      <td>0.935484</td>\n      <td>0.096774</td>\n      <td>97.00</td>\n      <td>46.774194</td>\n      <td>0.496129</td>\n      <td>0.354839</td>\n      <td>2.16129</td>\n      <td>0.677419</td>\n      <td>0.295484</td>\n      <td>103.709677</td>\n      <td>52.548387</td>\n      <td>17.903226</td>\n      <td>11.870968</td>\n      <td>8.419355</td>\n      <td>5.83871</td>\n      <td>84.548387</td>\n      <td>38.064516</td>\n      <td>1.741935</td>\n      <td>0.935484</td>\n      <td>67.645161</td>\n      <td>25.483871</td>\n      <td>0.225806</td>\n      <td>9.16129</td>\n      <td>7.483871</td>\n      <td>0.032258</td>\n      <td>0.032258</td>\n      <td>94.709677</td>\n      <td>44.83871</td>\n      <td>0.453226</td>\n      <td>0.096774</td>\n      <td>2.096774</td>\n      <td>0.225806</td>\n      <td>0.063548</td>\n      <td>100.387097</td>\n      <td>49.774194</td>\n      <td>0.0</td>\n      <td>3.0</td>\n      <td>0.0</td>\n      <td>Donald Cerrone</td>\n      <td>8.0</td>\n      <td>8.0</td>\n      <td>68.0</td>\n      <td>581.870968</td>\n      <td>1.0</td>\n      <td>0.0</td>\n      <td>0.0</td>\n      <td>7.0</td>\n      <td>10.0</td>\n      <td>6.0</td>\n      <td>0.0</td>\n      <td>23.0</td>\n      <td>False</td>\n      <td>33.0</td>\n      <td>604.40</td>\n      <td>2.0</td>\n      <td>Lightweight</td>\n      <td>0.0</td>\n      <td>1.0</td>\n      <td>3.0</td>\n      <td>3.0</td>\n      <td>6.0</td>\n      <td>1.0</td>\n      <td>14.0</td>\n      <td>0.972750</td>\n      <td>1.040875</td>\n      <td>1.000000</td>\n      <td>0.972973</td>\n      <td>0.909007</td>\n      <td>0.784468</td>\n      <td>0.499444</td>\n      <td>0.507385</td>\n      <td>1.366115</td>\n      <td>1.275034</td>\n      <td>0.971947</td>\n      <td>1.095749</td>\n      <td>1.423747</td>\n      <td>1.508777</td>\n      <td>0.729412</td>\n      <td>0.982222</td>\n      <td>0.924694</td>\n      <td>0.688889</td>\n      <td>1.033333</td>\n      <td>NaN</td>\n      <td>NaN</td>\n      <td>NaN</td>\n      <td>1.476190</td>\n      <td>0.611565</td>\n      <td>0.834615</td>\n      <td>0.985989</td>\n      <td>NaN</td>\n      <td>NaN</td>\n      <td>0.818203</td>\n      <td>0.709607</td>\n      <td>0.403425</td>\n      <td>0.253459</td>\n      <td>1.076194</td>\n      <td>0.849876</td>\n      <td>2.139608</td>\n      <td>1.963333</td>\n      <td>1.154731</td>\n      <td>0.913764</td>\n      <td>1.033333</td>\n      <td>0.688889</td>\n      <td>0.636502</td>\n      <td>1.291667</td>\n      <td>1.097917</td>\n      <td>NaN</td>\n      <td>NaN</td>\n      <td>NaN</td>\n      <td>0.972549</td>\n      <td>1.248611</td>\n      <td>1.359649</td>\n      <td>1.063735</td>\n      <td>NaN</td>\n      <td>NaN</td>\n      <td>1.0</td>\n      <td>3.00</td>\n      <td>1.0</td>\n      <td>1.333333</td>\n      <td>0.222222</td>\n      <td>0.492754</td>\n      <td>1.038652</td>\n      <td>1.5</td>\n      <td>1.0</td>\n      <td>2.000000</td>\n      <td>0.500000</td>\n      <td>0.363636</td>\n      <td>1.0</td>\n      <td>2.0</td>\n      <td>0.625</td>\n    </tr>\n    <tr>\n      <td>3</td>\n      <td>162.56</td>\n      <td>172.72</td>\n      <td>Kevin MacDonald</td>\n      <td>Orthodox</td>\n      <td>135.0</td>\n      <td>29.0</td>\n      <td>18.250000</td>\n      <td>10.250000</td>\n      <td>5.875000</td>\n      <td>4.125000</td>\n      <td>104.875000</td>\n      <td>41.000000</td>\n      <td>1.000000</td>\n      <td>0.625000</td>\n      <td>80.500000</td>\n      <td>24.00</td>\n      <td>0.375</td>\n      <td>13.000000</td>\n      <td>11.500000</td>\n      <td>0.125000</td>\n      <td>0.000000</td>\n      <td>NaN</td>\n      <td>NaN</td>\n      <td>NaN</td>\n      <td>111.750000</td>\n      <td>45.750000</td>\n      <td>0.366250</td>\n      <td>NaN</td>\n      <td>0.000000</td>\n      <td>2.250000</td>\n      <td>0.625000</td>\n      <td>0.103750</td>\n      <td>NaN</td>\n      <td>NaN</td>\n      <td>117.375000</td>\n      <td>50.750000</td>\n      <td>20.250000</td>\n      <td>13.375000</td>\n      <td>6.875000</td>\n      <td>5.625000</td>\n      <td>103.125000</td>\n      <td>38.500000</td>\n      <td>0.875000</td>\n      <td>0.750000</td>\n      <td>77.375000</td>\n      <td>20.375000</td>\n      <td>0.125000</td>\n      <td>13.250000</td>\n      <td>11.125000</td>\n      <td>0.000000</td>\n      <td>0.000000</td>\n      <td>NaN</td>\n      <td>NaN</td>\n      <td>NaN</td>\n      <td>110.875000</td>\n      <td>44.875000</td>\n      <td>0.446250</td>\n      <td>NaN</td>\n      <td>0.000000</td>\n      <td>2.375000</td>\n      <td>0.000000</td>\n      <td>0.000000</td>\n      <td>NaN</td>\n      <td>NaN</td>\n      <td>115.125000</td>\n      <td>48.875000</td>\n      <td>1.0</td>\n      <td>0.0</td>\n      <td>2019-06-08</td>\n      <td>0.0</td>\n      <td>Jimmie Rivera</td>\n      <td>False</td>\n      <td>Chicago, Illinois, USA</td>\n      <td>5.0</td>\n      <td>2.0</td>\n      <td>3</td>\n      <td>170.18</td>\n      <td>170.18</td>\n      <td>Switch</td>\n      <td>135.0</td>\n      <td>26.0</td>\n      <td>17.000000</td>\n      <td>14.000000</td>\n      <td>13.750000</td>\n      <td>11.000000</td>\n      <td>109.500000</td>\n      <td>48.750000</td>\n      <td>13.000000</td>\n      <td>10.500000</td>\n      <td>116.250000</td>\n      <td>53.750000</td>\n      <td>0.500000</td>\n      <td>3.0</td>\n      <td>2.500000</td>\n      <td>0.500000</td>\n      <td>0.250000</td>\n      <td>136.25</td>\n      <td>70.250000</td>\n      <td>0.550000</td>\n      <td>0.250000</td>\n      <td>2.50000</td>\n      <td>1.250000</td>\n      <td>0.287500</td>\n      <td>154.750000</td>\n      <td>86.750000</td>\n      <td>12.250000</td>\n      <td>6.000000</td>\n      <td>6.000000</td>\n      <td>3.75000</td>\n      <td>94.250000</td>\n      <td>26.750000</td>\n      <td>1.750000</td>\n      <td>1.250000</td>\n      <td>82.500000</td>\n      <td>21.500000</td>\n      <td>0.250000</td>\n      <td>7.25000</td>\n      <td>4.250000</td>\n      <td>0.000000</td>\n      <td>0.000000</td>\n      <td>102.000000</td>\n      <td>31.75000</td>\n      <td>0.337500</td>\n      <td>0.000000</td>\n      <td>4.500000</td>\n      <td>0.750000</td>\n      <td>0.097500</td>\n      <td>104.750000</td>\n      <td>34.250000</td>\n      <td>0.0</td>\n      <td>4.0</td>\n      <td>0.0</td>\n      <td>Petr Yan</td>\n      <td>4.0</td>\n      <td>0.0</td>\n      <td>9.0</td>\n      <td>652.000000</td>\n      <td>0.0</td>\n      <td>0.0</td>\n      <td>0.0</td>\n      <td>2.0</td>\n      <td>2.0</td>\n      <td>0.0</td>\n      <td>0.0</td>\n      <td>4.0</td>\n      <td>False</td>\n      <td>20.0</td>\n      <td>690.25</td>\n      <td>0.0</td>\n      <td>Bantamweight</td>\n      <td>0.0</td>\n      <td>1.0</td>\n      <td>4.0</td>\n      <td>1.0</td>\n      <td>0.0</td>\n      <td>0.0</td>\n      <td>6.0</td>\n      <td>0.955485</td>\n      <td>1.014838</td>\n      <td>1.000000</td>\n      <td>1.111111</td>\n      <td>1.069444</td>\n      <td>0.750000</td>\n      <td>0.466102</td>\n      <td>0.427083</td>\n      <td>0.958145</td>\n      <td>0.844221</td>\n      <td>0.142857</td>\n      <td>0.141304</td>\n      <td>0.695096</td>\n      <td>0.456621</td>\n      <td>0.916667</td>\n      <td>3.500000</td>\n      <td>3.571429</td>\n      <td>0.750000</td>\n      <td>0.800000</td>\n      <td>NaN</td>\n      <td>NaN</td>\n      <td>NaN</td>\n      <td>0.800000</td>\n      <td>0.928571</td>\n      <td>0.722222</td>\n      <td>0.857282</td>\n      <td>NaN</td>\n      <td>NaN</td>\n      <td>1.603774</td>\n      <td>2.053571</td>\n      <td>1.125000</td>\n      <td>1.394737</td>\n      <td>1.093176</td>\n      <td>1.423423</td>\n      <td>0.681818</td>\n      <td>0.777778</td>\n      <td>0.938623</td>\n      <td>0.950000</td>\n      <td>0.900000</td>\n      <td>1.727273</td>\n      <td>2.309524</td>\n      <td>1.000000</td>\n      <td>1.000000</td>\n      <td>NaN</td>\n      <td>NaN</td>\n      <td>NaN</td>\n      <td>1.000000</td>\n      <td>0.613636</td>\n      <td>0.571429</td>\n      <td>0.911162</td>\n      <td>NaN</td>\n      <td>NaN</td>\n      <td>2.0</td>\n      <td>0.20</td>\n      <td>1.0</td>\n      <td>1.200000</td>\n      <td>3.000000</td>\n      <td>2.100000</td>\n      <td>1.058576</td>\n      <td>1.0</td>\n      <td>1.0</td>\n      <td>2.000000</td>\n      <td>1.666667</td>\n      <td>0.666667</td>\n      <td>1.0</td>\n      <td>1.0</td>\n      <td>1.400</td>\n    </tr>\n    <tr>\n      <td>4</td>\n      <td>187.96</td>\n      <td>190.50</td>\n      <td>Dan Miragliotta</td>\n      <td>Southpaw</td>\n      <td>264.0</td>\n      <td>26.0</td>\n      <td>7.750000</td>\n      <td>6.750000</td>\n      <td>11.000000</td>\n      <td>7.250000</td>\n      <td>50.750000</td>\n      <td>24.750000</td>\n      <td>0.500000</td>\n      <td>0.500000</td>\n      <td>50.750000</td>\n      <td>22.75</td>\n      <td>0.500</td>\n      <td>3.750000</td>\n      <td>3.000000</td>\n      <td>0.250000</td>\n      <td>0.000000</td>\n      <td>NaN</td>\n      <td>NaN</td>\n      <td>NaN</td>\n      <td>62.250000</td>\n      <td>32.500000</td>\n      <td>0.545000</td>\n      <td>NaN</td>\n      <td>0.000000</td>\n      <td>0.500000</td>\n      <td>0.000000</td>\n      <td>0.000000</td>\n      <td>NaN</td>\n      <td>NaN</td>\n      <td>63.500000</td>\n      <td>32.750000</td>\n      <td>6.250000</td>\n      <td>4.750000</td>\n      <td>4.500000</td>\n      <td>3.500000</td>\n      <td>42.750000</td>\n      <td>16.250000</td>\n      <td>7.750000</td>\n      <td>2.750000</td>\n      <td>43.250000</td>\n      <td>14.000000</td>\n      <td>0.250000</td>\n      <td>5.500000</td>\n      <td>3.750000</td>\n      <td>0.750000</td>\n      <td>0.000000</td>\n      <td>NaN</td>\n      <td>NaN</td>\n      <td>NaN</td>\n      <td>55.000000</td>\n      <td>22.500000</td>\n      <td>0.397500</td>\n      <td>NaN</td>\n      <td>0.000000</td>\n      <td>1.000000</td>\n      <td>0.000000</td>\n      <td>0.000000</td>\n      <td>NaN</td>\n      <td>NaN</td>\n      <td>60.500000</td>\n      <td>27.750000</td>\n      <td>1.0</td>\n      <td>0.0</td>\n      <td>2019-06-08</td>\n      <td>0.0</td>\n      <td>Tai Tuivasa</td>\n      <td>False</td>\n      <td>Chicago, Illinois, USA</td>\n      <td>3.0</td>\n      <td>1.0</td>\n      <td>3</td>\n      <td>180.34</td>\n      <td>185.42</td>\n      <td>Southpaw</td>\n      <td>250.0</td>\n      <td>32.0</td>\n      <td>17.000000</td>\n      <td>14.500000</td>\n      <td>2.500000</td>\n      <td>2.000000</td>\n      <td>201.000000</td>\n      <td>59.500000</td>\n      <td>0.000000</td>\n      <td>0.000000</td>\n      <td>184.500000</td>\n      <td>45.000000</td>\n      <td>0.000000</td>\n      <td>2.0</td>\n      <td>2.000000</td>\n      <td>0.000000</td>\n      <td>0.000000</td>\n      <td>203.50</td>\n      <td>61.500000</td>\n      <td>0.310000</td>\n      <td>0.000000</td>\n      <td>0.00000</td>\n      <td>0.000000</td>\n      <td>0.000000</td>\n      <td>204.000000</td>\n      <td>62.000000</td>\n      <td>42.500000</td>\n      <td>23.500000</td>\n      <td>0.500000</td>\n      <td>0.50000</td>\n      <td>205.000000</td>\n      <td>89.500000</td>\n      <td>0.000000</td>\n      <td>0.000000</td>\n      <td>152.500000</td>\n      <td>56.500000</td>\n      <td>0.000000</td>\n      <td>10.50000</td>\n      <td>10.000000</td>\n      <td>0.000000</td>\n      <td>0.000000</td>\n      <td>205.500000</td>\n      <td>90.00000</td>\n      <td>0.430000</td>\n      <td>0.000000</td>\n      <td>0.500000</td>\n      <td>0.000000</td>\n      <td>0.000000</td>\n      <td>205.500000</td>\n      <td>90.000000</td>\n      <td>0.0</td>\n      <td>1.0</td>\n      <td>0.0</td>\n      <td>Blagoy Ivanov</td>\n      <td>1.0</td>\n      <td>1.0</td>\n      <td>8.0</td>\n      <td>1200.000000</td>\n      <td>0.0</td>\n      <td>0.0</td>\n      <td>0.0</td>\n      <td>1.0</td>\n      <td>0.0</td>\n      <td>0.0</td>\n      <td>0.0</td>\n      <td>1.0</td>\n      <td>False</td>\n      <td>7.0</td>\n      <td>440.75</td>\n      <td>0.0</td>\n      <td>Heavyweight</td>\n      <td>0.0</td>\n      <td>0.0</td>\n      <td>1.0</td>\n      <td>2.0</td>\n      <td>0.0</td>\n      <td>0.0</td>\n      <td>3.0</td>\n      <td>1.042021</td>\n      <td>1.027250</td>\n      <td>1.055777</td>\n      <td>0.818182</td>\n      <td>0.486111</td>\n      <td>0.500000</td>\n      <td>3.428571</td>\n      <td>2.750000</td>\n      <td>0.256188</td>\n      <td>0.425620</td>\n      <td>1.500000</td>\n      <td>1.500000</td>\n      <td>0.278976</td>\n      <td>0.516304</td>\n      <td>1.500000</td>\n      <td>1.583333</td>\n      <td>1.333333</td>\n      <td>1.250000</td>\n      <td>1.000000</td>\n      <td>NaN</td>\n      <td>NaN</td>\n      <td>NaN</td>\n      <td>1.000000</td>\n      <td>1.500000</td>\n      <td>1.000000</td>\n      <td>1.000000</td>\n      <td>NaN</td>\n      <td>NaN</td>\n      <td>0.166667</td>\n      <td>0.234694</td>\n      <td>3.666667</td>\n      <td>3.000000</td>\n      <td>0.212379</td>\n      <td>0.190608</td>\n      <td>8.750000</td>\n      <td>3.750000</td>\n      <td>0.288274</td>\n      <td>0.260870</td>\n      <td>1.250000</td>\n      <td>0.565217</td>\n      <td>0.431818</td>\n      <td>1.750000</td>\n      <td>1.000000</td>\n      <td>NaN</td>\n      <td>NaN</td>\n      <td>NaN</td>\n      <td>1.000000</td>\n      <td>1.333333</td>\n      <td>1.000000</td>\n      <td>1.000000</td>\n      <td>NaN</td>\n      <td>NaN</td>\n      <td>2.0</td>\n      <td>0.50</td>\n      <td>1.0</td>\n      <td>2.000000</td>\n      <td>1.000000</td>\n      <td>0.888889</td>\n      <td>0.367818</td>\n      <td>1.0</td>\n      <td>1.0</td>\n      <td>1.000000</td>\n      <td>1.000000</td>\n      <td>3.000000</td>\n      <td>1.0</td>\n      <td>1.0</td>\n      <td>2.000</td>\n    </tr>\n  </tbody>\n</table>\n</div>"
     },
     "metadata": {},
     "execution_count": 41
    }
   ],
   "source": [
    "fighters_df.head()"
   ]
  },
  {
   "cell_type": "code",
   "execution_count": 12,
   "metadata": {},
   "outputs": [
    {
     "output_type": "execute_result",
     "data": {
      "text/plain": "Index(['Height_cms', 'Reach_cms', 'Referee', 'Stance', 'Weight_lbs', 'age',\n       'avg_BODY_att', 'avg_BODY_landed', 'avg_CLINCH_att',\n       'avg_CLINCH_landed', 'avg_DISTANCE_att', 'avg_DISTANCE_landed',\n       'avg_GROUND_att', 'avg_GROUND_landed', 'avg_HEAD_att',\n       'avg_HEAD_landed', 'avg_KD', 'avg_LEG_att', 'avg_LEG_landed',\n       'avg_PASS', 'avg_REV', 'avg_SIG_STR_att', 'avg_SIG_STR_landed',\n       'avg_SIG_STR_pct', 'avg_SIG_STatt', 'avg_SIG_STlanded', 'avg_SIG_STpct',\n       'avg_SUATT', 'avg_SUB_ATT', 'avg_TD_att', 'avg_TD_landed', 'avg_TD_pct',\n       'avg_TOTAL_STR_att', 'avg_TOTAL_STR_landed', 'avg_TOTAL_STatt',\n       'avg_TOTAL_STlanded', 'avg_opp_BODY_att', 'avg_opp_BODY_landed',\n       'avg_opp_CLINCH_att', 'avg_opp_CLINCH_landed', 'avg_opp_DISTANCE_att',\n       'avg_opp_DISTANCE_landed', 'avg_opp_GROUND_att',\n       'avg_opp_GROUND_landed', 'avg_opp_HEAD_att', 'avg_opp_HEAD_landed',\n       'avg_opp_KD', 'avg_opp_LEG_att', 'avg_opp_LEG_landed', 'avg_opp_PASS',\n       'avg_opp_REV', 'avg_opp_SIG_STR_att', 'avg_opp_SIG_STR_landed',\n       'avg_opp_SIG_STR_pct', 'avg_opp_SIG_STatt', 'avg_opp_SIG_STlanded',\n       'avg_opp_SIG_STpct', 'avg_opp_SUATT', 'avg_opp_SUB_ATT',\n       'avg_opp_TD_att', 'avg_opp_TD_landed', 'avg_opp_TD_pct',\n       'avg_opp_TOTAL_STR_att', 'avg_opp_TOTAL_STR_landed',\n       'avg_opp_TOTAL_STatt', 'avg_opp_TOTAL_STlanded', 'current_lose_streak',\n       'current_win_streak', 'date', 'draw', 'fighter', 'is_winner',\n       'location', 'longest_win_streak', 'losses', 'no_of_rounds',\n       'Height_cms_opponent', 'Reach_cms_opponent', 'Stance_opponent',\n       'Weight_lbs_opponent', 'age_opponent', 'avg_BODY_att_opponent',\n       'avg_BODY_landed_opponent', 'avg_CLINCH_att_opponent',\n       'avg_CLINCH_landed_opponent', 'avg_DISTANCE_att_opponent',\n       'avg_DISTANCE_landed_opponent', 'avg_GROUND_att_opponent',\n       'avg_GROUND_landed_opponent', 'avg_HEAD_att_opponent',\n       'avg_HEAD_landed_opponent', 'avg_KD_opponent', 'avg_LEG_att_opponent',\n       'avg_LEG_landed_opponent', 'avg_PASS_opponent', 'avg_REV_opponent',\n       'avg_SIG_STR_att_opponent', 'avg_SIG_STR_landed_opponent',\n       'avg_SIG_STR_pct_opponent', 'avg_SUB_ATT_opponent',\n       'avg_TD_att_opponent', 'avg_TD_landed_opponent', 'avg_TD_pct_opponent',\n       'avg_TOTAL_STR_att_opponent', 'avg_TOTAL_STR_landed_opponent',\n       'avg_opp_BODY_att_opponent', 'avg_opp_BODY_landed_opponent',\n       'avg_opp_CLINCH_att_opponent', 'avg_opp_CLINCH_landed_opponent',\n       'avg_opp_DISTANCE_att_opponent', 'avg_opp_DISTANCE_landed_opponent',\n       'avg_opp_GROUND_att_opponent', 'avg_opp_GROUND_landed_opponent',\n       'avg_opp_HEAD_att_opponent', 'avg_opp_HEAD_landed_opponent',\n       'avg_opp_KD_opponent', 'avg_opp_LEG_att_opponent',\n       'avg_opp_LEG_landed_opponent', 'avg_opp_PASS_opponent',\n       'avg_opp_REV_opponent', 'avg_opp_SIG_STR_att_opponent',\n       'avg_opp_SIG_STR_landed_opponent', 'avg_opp_SIG_STR_pct_opponent',\n       'avg_opp_SUB_ATT_opponent', 'avg_opp_TD_att_opponent',\n       'avg_opp_TD_landed_opponent', 'avg_opp_TD_pct_opponent',\n       'avg_opp_TOTAL_STR_att_opponent', 'avg_opp_TOTAL_STR_landed_opponent',\n       'current_lose_streak_opponent', 'current_win_streak_opponent',\n       'draw_opponent', 'fighter_opponent', 'longest_win_streak_opponent',\n       'losses_opponent', 'total_rounds_fought_opponent',\n       'total_time_fought(seconds)_opponent', 'total_title_bouts_opponent',\n       'win_by_Decision_Majority_opponent', 'win_by_Decision_Split_opponent',\n       'win_by_Decision_Unanimous_opponent', 'win_by_KO/TKO_opponent',\n       'win_by_Submission_opponent', 'win_by_TKO_Doctor_Stoppage_opponent',\n       'wins_opponent', 'title_bout', 'total_rounds_fought',\n       'total_time_fought(seconds)', 'total_title_bouts', 'weight_class',\n       'win_by_Decision_Majority', 'win_by_Decision_Split',\n       'win_by_Decision_Unanimous', 'win_by_KO/TKO', 'win_by_Submission',\n       'win_by_TKO_Doctor_Stoppage', 'wins', 'Height_cms_ratio',\n       'Reach_cms_ratio', 'Weight_lbs_ratio', 'age_ratio',\n       'avg_BODY_att_ratio', 'avg_BODY_landed_ratio', 'avg_CLINCH_att_ratio',\n       'avg_CLINCH_landed_ratio', 'avg_DISTANCE_att_ratio',\n       'avg_DISTANCE_landed_ratio', 'avg_GROUND_att_ratio',\n       'avg_GROUND_landed_ratio', 'avg_HEAD_att_ratio',\n       'avg_HEAD_landed_ratio', 'avg_KD_ratio', 'avg_LEG_att_ratio',\n       'avg_LEG_landed_ratio', 'avg_PASS_ratio', 'avg_REV_ratio',\n       'avg_SIG_STR_att_ratio', 'avg_SIG_STR_landed_ratio',\n       'avg_SIG_STR_pct_ratio', 'avg_SUB_ATT_ratio', 'avg_TD_att_ratio',\n       'avg_TD_landed_ratio', 'avg_TD_pct_ratio', 'avg_TOTAL_STR_att_ratio',\n       'avg_TOTAL_STR_landed_ratio', 'avg_opp_BODY_att_ratio',\n       'avg_opp_BODY_landed_ratio', 'avg_opp_CLINCH_att_ratio',\n       'avg_opp_CLINCH_landed_ratio', 'avg_opp_DISTANCE_att_ratio',\n       'avg_opp_DISTANCE_landed_ratio', 'avg_opp_GROUND_att_ratio',\n       'avg_opp_GROUND_landed_ratio', 'avg_opp_HEAD_att_ratio',\n       'avg_opp_HEAD_landed_ratio', 'avg_opp_KD_ratio',\n       'avg_opp_LEG_att_ratio', 'avg_opp_LEG_landed_ratio',\n       'avg_opp_PASS_ratio', 'avg_opp_REV_ratio', 'avg_opp_SIG_STR_att_ratio',\n       'avg_opp_SIG_STR_landed_ratio', 'avg_opp_SIG_STR_pct_ratio',\n       'avg_opp_SUB_ATT_ratio', 'avg_opp_TD_att_ratio',\n       'avg_opp_TD_landed_ratio', 'avg_opp_TD_pct_ratio',\n       'avg_opp_TOTAL_STR_att_ratio', 'avg_opp_TOTAL_STR_landed_ratio',\n       'current_lose_streak_ratio', 'current_win_streak_ratio', 'draw_ratio',\n       'longest_win_streak_ratio', 'losses_ratio', 'total_rounds_fought_ratio',\n       'total_time_fought(seconds)_ratio', 'total_title_bouts_ratio',\n       'win_by_Decision_Majority_ratio', 'win_by_Decision_Split_ratio',\n       'win_by_Decision_Unanimous_ratio', 'win_by_KO/TKO_ratio',\n       'win_by_Submission_ratio', 'win_by_TKO_Doctor_Stoppage_ratio',\n       'wins_ratio'],\n      dtype='object')"
     },
     "metadata": {},
     "execution_count": 12
    }
   ],
   "source": [
    "fighters_df.columns"
   ]
  },
  {
   "cell_type": "code",
   "execution_count": 34,
   "metadata": {},
   "outputs": [],
   "source": [
    "conor_df = fighters_df[fighters_df['fighter'] == 'Conor McGregor']"
   ]
  },
  {
   "cell_type": "code",
   "execution_count": 38,
   "metadata": {},
   "outputs": [
    {
     "output_type": "execute_result",
     "data": {
      "text/plain": "True     9\nFalse    2\nName: is_winner, dtype: int64"
     },
     "metadata": {},
     "execution_count": 38
    }
   ],
   "source": [
    "conor_df['is_winner'].value_counts()"
   ]
  },
  {
   "cell_type": "code",
   "execution_count": null,
   "metadata": {},
   "outputs": [],
   "source": [
    "# Looking at stance counts for colum R_Stance\n",
    "import altair as alt\n",
    "import seaborn as sns\n",
    "\n",
    "Stance = pd.DataFrame(conor_df['Stance'].value_counts())\n",
    "Stance['Stances'] = Stance.index\n",
    "\n",
    "alt.Chart(Stance).mark_bar(\n",
    "    color=\"#564d8d\"\n",
    ").encode(\n",
    "    x='Stance',\n",
    "    y='Stances'\n",
    ")"
   ]
  },
  {
   "cell_type": "code",
   "execution_count": 39,
   "metadata": {},
   "outputs": [
    {
     "output_type": "execute_result",
     "data": {
      "text/plain": "False    5227\nTrue     5061\nName: is_winner, dtype: int64"
     },
     "metadata": {},
     "execution_count": 39
    }
   ],
   "source": [
    "fighters_df['is_winner'].value_counts()"
   ]
  },
  {
   "cell_type": "code",
   "execution_count": 23,
   "metadata": {
    "colab": {
     "base_uri": "https://localhost:8080/",
     "height": 163
    },
    "colab_type": "code",
    "executionInfo": {
     "elapsed": 8136,
     "status": "ok",
     "timestamp": 1584561464624,
     "user": {
      "displayName": "Kyle Yates",
      "photoUrl": "https://lh3.googleusercontent.com/a-/AOh14GihSdUuoj8Jqg3faSdJ_YoYcCNfdD4nBcMH0a-eNw=s64",
      "userId": "13984558898084674041"
     },
     "user_tz": 420
    },
    "id": "5xWOMqDytuyN",
    "outputId": "b806aac5-c670-41bc-88df-c93d375e14ec"
   },
   "outputs": [
    {
     "output_type": "execute_result",
     "data": {
      "text/html": "\n<div id=\"altair-viz-cd0ee2b1af044a339b10a2faa1fc865f\"></div>\n<script type=\"text/javascript\">\n  (function(spec, embedOpt){\n    const outputDiv = document.getElementById(\"altair-viz-cd0ee2b1af044a339b10a2faa1fc865f\");\n    const paths = {\n      \"vega\": \"https://cdn.jsdelivr.net/npm//vega@5?noext\",\n      \"vega-lib\": \"https://cdn.jsdelivr.net/npm//vega-lib?noext\",\n      \"vega-lite\": \"https://cdn.jsdelivr.net/npm//vega-lite@4.0.2?noext\",\n      \"vega-embed\": \"https://cdn.jsdelivr.net/npm//vega-embed@6?noext\",\n    };\n\n    function loadScript(lib) {\n      return new Promise(function(resolve, reject) {\n        var s = document.createElement('script');\n        s.src = paths[lib];\n        s.async = true;\n        s.onload = () => resolve(paths[lib]);\n        s.onerror = () => reject(`Error loading script: ${paths[lib]}`);\n        document.getElementsByTagName(\"head\")[0].appendChild(s);\n      });\n    }\n\n    function showError(err) {\n      outputDiv.innerHTML = `<div class=\"error\" style=\"color:red;\">${err}</div>`;\n      throw err;\n    }\n\n    function displayChart(vegaEmbed) {\n      vegaEmbed(outputDiv, spec, embedOpt)\n        .catch(err => showError(`Javascript Error: ${err.message}<br>This usually means there's a typo in your chart specification. See the javascript console for the full traceback.`));\n    }\n\n    if(typeof define === \"function\" && define.amd) {\n      requirejs.config({paths});\n      require([\"vega-embed\"], displayChart, err => showError(`Error loading script: ${err.message}`));\n    } else if (typeof vegaEmbed === \"function\") {\n      displayChart(vegaEmbed);\n    } else {\n      loadScript(\"vega\")\n        .then(() => loadScript(\"vega-lite\"))\n        .then(() => loadScript(\"vega-embed\"))\n        .catch(showError)\n        .then(() => displayChart(vegaEmbed));\n    }\n  })({\"config\": {\"view\": {\"continuousWidth\": 400, \"continuousHeight\": 300}}, \"data\": {\"name\": \"data-b2c9f4f07496c5c4fed8b4b2835636e6\"}, \"mark\": {\"type\": \"bar\", \"color\": \"#564d8d\"}, \"encoding\": {\"x\": {\"type\": \"quantitative\", \"field\": \"Stance\"}, \"y\": {\"type\": \"nominal\", \"field\": \"Stances\"}}, \"$schema\": \"https://vega.github.io/schema/vega-lite/v4.0.2.json\", \"datasets\": {\"data-b2c9f4f07496c5c4fed8b4b2835636e6\": [{\"Stance\": 7636, \"Stances\": \"Orthodox\"}, {\"Stance\": 2011, \"Stances\": \"Southpaw\"}, {\"Stance\": 318, \"Stances\": \"Switch\"}, {\"Stance\": 24, \"Stances\": \"Open Stance\"}, {\"Stance\": 6, \"Stances\": \"Sideways\"}]}}, {\"mode\": \"vega-lite\"});\n</script>",
      "text/plain": "alt.Chart(...)"
     },
     "metadata": {},
     "execution_count": 23
    }
   ],
   "source": [
    "# Looking at stance counts for colum R_Stance\n",
    "import altair as alt\n",
    "import seaborn as sns\n",
    "\n",
    "Stance = pd.DataFrame(fighters_df['Stance'].value_counts())\n",
    "Stance['Stances'] = Stance.index\n",
    "\n",
    "alt.Chart(Stance).mark_bar(\n",
    "    color=\"#564d8d\"\n",
    ").encode(\n",
    "    x='Stance',\n",
    "    y='Stances'\n",
    ")"
   ]
  },
  {
   "cell_type": "markdown",
   "metadata": {
    "colab_type": "text",
    "id": "dAw_VejlH648"
   },
   "source": [
    "# ------------------------------ Cleaning/Reshaping Data ------------------------------"
   ]
  },
  {
   "cell_type": "code",
   "execution_count": 0,
   "metadata": {
    "colab": {},
    "colab_type": "code",
    "id": "WVcqQ7u9on2H"
   },
   "outputs": [],
   "source": [
    "# Question: Do southpaw fighters have a higher win ratio versus other fighting styles?\n",
    "# Question: Which fighting styles are most prevalent in the UFC?"
   ]
  },
  {
   "cell_type": "code",
   "execution_count": 0,
   "metadata": {
    "colab": {},
    "colab_type": "code",
    "id": "a3sy781jzYTE"
   },
   "outputs": [],
   "source": [
    "# Win ratio of each southpaw fighter\n",
    "\n",
    "#Creating a function to retrieve all southpaw fighters and assign them a 1 if they win, and a 0 if they lose\n",
    "\n",
    "def southpaw_red(row):\n",
    "  if row['R_Stance'] == 'Southpaw' and row['Winner'] == 'Red':\n",
    "    return 1\n",
    "  if row['R_Stance'] == 'Southpaw' and row['Winner'] == 'Blue':\n",
    "    return 0\n",
    "  else:\n",
    "      return 'N/A'\n",
    "      \n",
    "\n",
    "def southpaw_blue(row):\n",
    "  if row['B_Stance'] == 'Southpaw' and row['Winner'] == 'Blue':\n",
    "    return 1\n",
    "  if row['B_Stance'] == 'Southpaw' and row['Winner'] == 'Red':\n",
    "    return 0\n",
    "  else:\n",
    "    return 'N/A'\n"
   ]
  },
  {
   "cell_type": "code",
   "execution_count": 0,
   "metadata": {
    "colab": {},
    "colab_type": "code",
    "id": "W6It0UCoaDr0"
   },
   "outputs": [],
   "source": [
    "# Win ratio of non-southpaw fighters\n",
    "\n",
    "#Creating a function to retrieve all non-southpaw fighters and assign them a 1 if they win, and a 0 if they lose\n",
    "\n",
    "def other_fighters_red(row):\n",
    "  if row['R_Stance'] != 'Southpaw' and row['Winner'] == 'Red':\n",
    "    return 1\n",
    "  if row['R_Stance'] != 'Southpaw' and row['Winner'] == 'Blue':\n",
    "    return 0\n",
    "  else:\n",
    "      return 'N/A'\n",
    "      \n",
    "\n",
    "def other_fighters_blue(row):\n",
    "  if row['B_Stance'] != 'Southpaw' and row['Winner'] == 'Blue':\n",
    "    return 1\n",
    "  if row['B_Stance'] != 'Southpaw' and row['Winner'] == 'Red':\n",
    "    return 0\n",
    "  else:\n",
    "    return 'N/A'\n"
   ]
  },
  {
   "cell_type": "code",
   "execution_count": 0,
   "metadata": {
    "colab": {},
    "colab_type": "code",
    "id": "fOW8BRi5gXXV"
   },
   "outputs": [],
   "source": [
    "# Win ratio of orthodox fighters\n",
    "\n",
    "#Creating a function to retrieve all orthodox fighters and assign them a 1 if they win, and a 0 if they lose\n",
    "\n",
    "def orthodox_red(row):\n",
    "  if row['R_Stance'] == 'Orthodox' and row['Winner'] == 'Red':\n",
    "    return 1\n",
    "  if row['R_Stance'] == 'Orthodox' and row['Winner'] == 'Blue':\n",
    "    return 0\n",
    "  else:\n",
    "      return 'N/A'\n",
    "      \n",
    "\n",
    "def orthodox_blue(row):\n",
    "  if row['B_Stance'] == 'Orthodox' and row['Winner'] == 'Blue':\n",
    "    return 1\n",
    "  if row['B_Stance'] == 'Orthodox' and row['Winner'] == 'Red':\n",
    "    return 0\n",
    "  else:\n",
    "    return 'N/A'"
   ]
  },
  {
   "cell_type": "code",
   "execution_count": 0,
   "metadata": {
    "colab": {},
    "colab_type": "code",
    "id": "crXpN-y0Goah"
   },
   "outputs": [],
   "source": [
    "#Creating a win collector function to collect the wins/losses for a ratio calculation\n",
    "\n",
    "def win_collector(row):\n",
    "  if row['Win or Loss'] == 1:\n",
    "    return 1\n",
    "  if row['Win or Loss'] == 0:\n",
    "    return 0\n",
    "  else:\n",
    "      return np.NaN"
   ]
  },
  {
   "cell_type": "code",
   "execution_count": 0,
   "metadata": {
    "colab": {},
    "colab_type": "code",
    "id": "sesVnFnXJfYr"
   },
   "outputs": [],
   "source": [
    "#Creating a loss collector function to collect the wins/losses for a ratio calculation\n",
    "\n",
    "def loss_collector(row):\n",
    "  if row['Win or Loss'] == 0:\n",
    "    return 1\n",
    "  if row['Win or Loss'] == 1:\n",
    "    return 0\n",
    "  else:\n",
    "      return np.NaN"
   ]
  },
  {
   "cell_type": "code",
   "execution_count": 0,
   "metadata": {
    "colab": {
     "base_uri": "https://localhost:8080/",
     "height": 204
    },
    "colab_type": "code",
    "executionInfo": {
     "elapsed": 8382,
     "status": "ok",
     "timestamp": 1584561464923,
     "user": {
      "displayName": "Kyle Yates",
      "photoUrl": "https://lh3.googleusercontent.com/a-/AOh14GihSdUuoj8Jqg3faSdJ_YoYcCNfdD4nBcMH0a-eNw=s64",
      "userId": "13984558898084674041"
     },
     "user_tz": 420
    },
    "id": "nnuzOK463aFk",
    "outputId": "6eed40cb-e477-4878-cc2f-73756d0adfcd"
   },
   "outputs": [
    {
     "data": {
      "text/html": [
       "<div>\n",
       "<style scoped>\n",
       "    .dataframe tbody tr th:only-of-type {\n",
       "        vertical-align: middle;\n",
       "    }\n",
       "\n",
       "    .dataframe tbody tr th {\n",
       "        vertical-align: top;\n",
       "    }\n",
       "\n",
       "    .dataframe thead th {\n",
       "        text-align: right;\n",
       "    }\n",
       "</style>\n",
       "<table border=\"1\" class=\"dataframe\">\n",
       "  <thead>\n",
       "    <tr style=\"text-align: right;\">\n",
       "      <th></th>\n",
       "      <th>R_fighter</th>\n",
       "      <th>B_fighter</th>\n",
       "      <th>date</th>\n",
       "      <th>Winner</th>\n",
       "      <th>R_Stance</th>\n",
       "      <th>B_Stance</th>\n",
       "    </tr>\n",
       "  </thead>\n",
       "  <tbody>\n",
       "    <tr>\n",
       "      <th>0</th>\n",
       "      <td>Henry Cejudo</td>\n",
       "      <td>Marlon Moraes</td>\n",
       "      <td>2019-06-08</td>\n",
       "      <td>Red</td>\n",
       "      <td>Orthodox</td>\n",
       "      <td>Orthodox</td>\n",
       "    </tr>\n",
       "    <tr>\n",
       "      <th>1</th>\n",
       "      <td>Valentina Shevchenko</td>\n",
       "      <td>Jessica Eye</td>\n",
       "      <td>2019-06-08</td>\n",
       "      <td>Red</td>\n",
       "      <td>Southpaw</td>\n",
       "      <td>Orthodox</td>\n",
       "    </tr>\n",
       "    <tr>\n",
       "      <th>2</th>\n",
       "      <td>Tony Ferguson</td>\n",
       "      <td>Donald Cerrone</td>\n",
       "      <td>2019-06-08</td>\n",
       "      <td>Red</td>\n",
       "      <td>Orthodox</td>\n",
       "      <td>Orthodox</td>\n",
       "    </tr>\n",
       "    <tr>\n",
       "      <th>3</th>\n",
       "      <td>Jimmie Rivera</td>\n",
       "      <td>Petr Yan</td>\n",
       "      <td>2019-06-08</td>\n",
       "      <td>Blue</td>\n",
       "      <td>Orthodox</td>\n",
       "      <td>Switch</td>\n",
       "    </tr>\n",
       "    <tr>\n",
       "      <th>4</th>\n",
       "      <td>Tai Tuivasa</td>\n",
       "      <td>Blagoy Ivanov</td>\n",
       "      <td>2019-06-08</td>\n",
       "      <td>Blue</td>\n",
       "      <td>Southpaw</td>\n",
       "      <td>Southpaw</td>\n",
       "    </tr>\n",
       "  </tbody>\n",
       "</table>\n",
       "</div>"
      ],
      "text/plain": [
       "              R_fighter       B_fighter        date Winner  R_Stance  B_Stance\n",
       "0          Henry Cejudo   Marlon Moraes  2019-06-08    Red  Orthodox  Orthodox\n",
       "1  Valentina Shevchenko     Jessica Eye  2019-06-08    Red  Southpaw  Orthodox\n",
       "2         Tony Ferguson  Donald Cerrone  2019-06-08    Red  Orthodox  Orthodox\n",
       "3         Jimmie Rivera        Petr Yan  2019-06-08   Blue  Orthodox    Switch\n",
       "4           Tai Tuivasa   Blagoy Ivanov  2019-06-08   Blue  Southpaw  Southpaw"
      ]
     },
     "execution_count": 15,
     "metadata": {
      "tags": []
     },
     "output_type": "execute_result"
    }
   ],
   "source": [
    "# Taking out just relevant columns for all subsequent graphs\n",
    "\n",
    "df_subset1 = df[['R_fighter','B_fighter','date','Winner','R_Stance','B_Stance']]\n",
    "df_subset1.head()"
   ]
  },
  {
   "cell_type": "code",
   "execution_count": 0,
   "metadata": {
    "colab": {},
    "colab_type": "code",
    "id": "mPjP-24qSp9W"
   },
   "outputs": [],
   "source": [
    "# Taking out just relevant dates for all graphs\n",
    "\n",
    "df_subset1.set_index('date', inplace=True)\n",
    "df_subset1 = df_subset1.loc['2019-06-08':'2009-01-01']\n",
    "df_subset1 = df_subset1.reset_index()\n"
   ]
  },
  {
   "cell_type": "code",
   "execution_count": 0,
   "metadata": {
    "colab": {},
    "colab_type": "code",
    "id": "wcTJkZlJamgP"
   },
   "outputs": [],
   "source": [
    "# Renaming columns for stance count concatenation\n",
    "\n",
    "stanceR = stanceR.rename(columns={\"R_Stance\": \"Stance\"}, errors=\"raise\")\n",
    "stanceB = stanceB.rename(columns={\"B_Stance\": \"Stance\"}, errors =\"raise\")\n",
    "\n",
    "stanceR = stanceR.rename(columns={\"Stance\": \"Stance Count\", \"Stance Count\": \"Stance\"}, errors=\"raise\")\n",
    "stanceB = stanceB.rename(columns={\"Stance\": \"Stance Count\", \"Stance Count\": \"Stance\"}, errors=\"raise\")"
   ]
  },
  {
   "cell_type": "code",
   "execution_count": 0,
   "metadata": {
    "colab": {
     "base_uri": "https://localhost:8080/",
     "height": 204
    },
    "colab_type": "code",
    "executionInfo": {
     "elapsed": 8368,
     "status": "ok",
     "timestamp": 1584561464926,
     "user": {
      "displayName": "Kyle Yates",
      "photoUrl": "https://lh3.googleusercontent.com/a-/AOh14GihSdUuoj8Jqg3faSdJ_YoYcCNfdD4nBcMH0a-eNw=s64",
      "userId": "13984558898084674041"
     },
     "user_tz": 420
    },
    "id": "YEf8SBBgJYNQ",
    "outputId": "12237d3c-707b-44fc-a883-bb5f40cb103e"
   },
   "outputs": [
    {
     "data": {
      "text/html": [
       "<div>\n",
       "<style scoped>\n",
       "    .dataframe tbody tr th:only-of-type {\n",
       "        vertical-align: middle;\n",
       "    }\n",
       "\n",
       "    .dataframe tbody tr th {\n",
       "        vertical-align: top;\n",
       "    }\n",
       "\n",
       "    .dataframe thead th {\n",
       "        text-align: right;\n",
       "    }\n",
       "</style>\n",
       "<table border=\"1\" class=\"dataframe\">\n",
       "  <thead>\n",
       "    <tr style=\"text-align: right;\">\n",
       "      <th></th>\n",
       "      <th>Stance Count</th>\n",
       "      <th>Stance</th>\n",
       "    </tr>\n",
       "  </thead>\n",
       "  <tbody>\n",
       "    <tr>\n",
       "      <th>Orthodox</th>\n",
       "      <td>3829</td>\n",
       "      <td>Orthodox</td>\n",
       "    </tr>\n",
       "    <tr>\n",
       "      <th>Southpaw</th>\n",
       "      <td>975</td>\n",
       "      <td>Southpaw</td>\n",
       "    </tr>\n",
       "    <tr>\n",
       "      <th>Switch</th>\n",
       "      <td>168</td>\n",
       "      <td>Switch</td>\n",
       "    </tr>\n",
       "    <tr>\n",
       "      <th>Open Stance</th>\n",
       "      <td>9</td>\n",
       "      <td>Open Stance</td>\n",
       "    </tr>\n",
       "    <tr>\n",
       "      <th>Sideways</th>\n",
       "      <td>4</td>\n",
       "      <td>Sideways</td>\n",
       "    </tr>\n",
       "  </tbody>\n",
       "</table>\n",
       "</div>"
      ],
      "text/plain": [
       "             Stance Count       Stance\n",
       "Orthodox             3829     Orthodox\n",
       "Southpaw              975     Southpaw\n",
       "Switch                168       Switch\n",
       "Open Stance             9  Open Stance\n",
       "Sideways                4     Sideways"
      ]
     },
     "execution_count": 18,
     "metadata": {
      "tags": []
     },
     "output_type": "execute_result"
    }
   ],
   "source": [
    "# Most popular stances from B_fighter\n",
    "stanceB"
   ]
  },
  {
   "cell_type": "code",
   "execution_count": 0,
   "metadata": {
    "colab": {
     "base_uri": "https://localhost:8080/",
     "height": 204
    },
    "colab_type": "code",
    "executionInfo": {
     "elapsed": 8360,
     "status": "ok",
     "timestamp": 1584561464928,
     "user": {
      "displayName": "Kyle Yates",
      "photoUrl": "https://lh3.googleusercontent.com/a-/AOh14GihSdUuoj8Jqg3faSdJ_YoYcCNfdD4nBcMH0a-eNw=s64",
      "userId": "13984558898084674041"
     },
     "user_tz": 420
    },
    "id": "kmwngWIkJcBH",
    "outputId": "fd605f2b-6813-4e8d-bf46-d5cd037bdfdc"
   },
   "outputs": [
    {
     "data": {
      "text/html": [
       "<div>\n",
       "<style scoped>\n",
       "    .dataframe tbody tr th:only-of-type {\n",
       "        vertical-align: middle;\n",
       "    }\n",
       "\n",
       "    .dataframe tbody tr th {\n",
       "        vertical-align: top;\n",
       "    }\n",
       "\n",
       "    .dataframe thead th {\n",
       "        text-align: right;\n",
       "    }\n",
       "</style>\n",
       "<table border=\"1\" class=\"dataframe\">\n",
       "  <thead>\n",
       "    <tr style=\"text-align: right;\">\n",
       "      <th></th>\n",
       "      <th>Stance Count</th>\n",
       "      <th>Stance</th>\n",
       "    </tr>\n",
       "  </thead>\n",
       "  <tbody>\n",
       "    <tr>\n",
       "      <th>Orthodox</th>\n",
       "      <td>3807</td>\n",
       "      <td>Orthodox</td>\n",
       "    </tr>\n",
       "    <tr>\n",
       "      <th>Southpaw</th>\n",
       "      <td>1036</td>\n",
       "      <td>Southpaw</td>\n",
       "    </tr>\n",
       "    <tr>\n",
       "      <th>Switch</th>\n",
       "      <td>150</td>\n",
       "      <td>Switch</td>\n",
       "    </tr>\n",
       "    <tr>\n",
       "      <th>Open Stance</th>\n",
       "      <td>15</td>\n",
       "      <td>Open Stance</td>\n",
       "    </tr>\n",
       "    <tr>\n",
       "      <th>Sideways</th>\n",
       "      <td>2</td>\n",
       "      <td>Sideways</td>\n",
       "    </tr>\n",
       "  </tbody>\n",
       "</table>\n",
       "</div>"
      ],
      "text/plain": [
       "             Stance Count       Stance\n",
       "Orthodox             3807     Orthodox\n",
       "Southpaw             1036     Southpaw\n",
       "Switch                150       Switch\n",
       "Open Stance            15  Open Stance\n",
       "Sideways                2     Sideways"
      ]
     },
     "execution_count": 19,
     "metadata": {
      "tags": []
     },
     "output_type": "execute_result"
    }
   ],
   "source": [
    "# Most popular stances from R_fighter\n",
    "stanceR"
   ]
  },
  {
   "cell_type": "code",
   "execution_count": 0,
   "metadata": {
    "colab": {
     "base_uri": "https://localhost:8080/",
     "height": 173
    },
    "colab_type": "code",
    "executionInfo": {
     "elapsed": 8350,
     "status": "ok",
     "timestamp": 1584561464929,
     "user": {
      "displayName": "Kyle Yates",
      "photoUrl": "https://lh3.googleusercontent.com/a-/AOh14GihSdUuoj8Jqg3faSdJ_YoYcCNfdD4nBcMH0a-eNw=s64",
      "userId": "13984558898084674041"
     },
     "user_tz": 420
    },
    "id": "B97GHZcLbyI4",
    "outputId": "f3b40364-5c39-45fe-ea2a-19b4cd59c3a9"
   },
   "outputs": [
    {
     "data": {
      "text/html": [
       "<div>\n",
       "<style scoped>\n",
       "    .dataframe tbody tr th:only-of-type {\n",
       "        vertical-align: middle;\n",
       "    }\n",
       "\n",
       "    .dataframe tbody tr th {\n",
       "        vertical-align: top;\n",
       "    }\n",
       "\n",
       "    .dataframe thead th {\n",
       "        text-align: right;\n",
       "    }\n",
       "</style>\n",
       "<table border=\"1\" class=\"dataframe\">\n",
       "  <thead>\n",
       "    <tr style=\"text-align: right;\">\n",
       "      <th></th>\n",
       "      <th>Fight Count</th>\n",
       "      <th>Stance</th>\n",
       "    </tr>\n",
       "  </thead>\n",
       "  <tbody>\n",
       "    <tr>\n",
       "      <th>0</th>\n",
       "      <td>6050</td>\n",
       "      <td>Orthodox</td>\n",
       "    </tr>\n",
       "    <tr>\n",
       "      <th>1</th>\n",
       "      <td>1637</td>\n",
       "      <td>Southpaw</td>\n",
       "    </tr>\n",
       "    <tr>\n",
       "      <th>2</th>\n",
       "      <td>258</td>\n",
       "      <td>Switch</td>\n",
       "    </tr>\n",
       "    <tr>\n",
       "      <th>3</th>\n",
       "      <td>13</td>\n",
       "      <td>Open Stance</td>\n",
       "    </tr>\n",
       "  </tbody>\n",
       "</table>\n",
       "</div>"
      ],
      "text/plain": [
       "   Fight Count       Stance\n",
       "0         6050     Orthodox\n",
       "1         1637     Southpaw\n",
       "2          258       Switch\n",
       "3           13  Open Stance"
      ]
     },
     "execution_count": 20,
     "metadata": {
      "tags": []
     },
     "output_type": "execute_result"
    }
   ],
   "source": [
    "# Building a data frame from the stance count numbers for first visualization\n",
    "\n",
    "All_Stance_Final = pd.DataFrame({'Fight Count': [6050,1637,258,13], 'Stance': [\"Orthodox\",\"Southpaw\",\"Switch\",\"Open Stance\",]})\n",
    "\n",
    "All_Stance_Final"
   ]
  },
  {
   "cell_type": "code",
   "execution_count": 0,
   "metadata": {
    "colab": {},
    "colab_type": "code",
    "id": "sSmjAJbS49G5"
   },
   "outputs": [],
   "source": [
    "## Data Prep for Southpaw Fighters\n",
    "\n",
    "# Applying the south paw function to the df_subset data to create new columns containing southpaw data\n",
    "\n",
    "df_subset1['South Paw Red Win'] = df_subset1.apply(southpaw_red, axis=1)\n",
    "df_subset1['South Paw Blue Win'] = df_subset1.apply(southpaw_blue, axis=1)\n",
    "\n",
    "#Taking out just southpaw fighters for each corner\n",
    "\n",
    "df_subsetR = df_subset1[df_subset1['R_Stance'] == 'Southpaw']\n",
    "df_subsetB = df_subset1[df_subset1['B_Stance'] == 'Southpaw']\n",
    "\n",
    "# Dropping the blue corner that is not collected in this subset\n",
    "\n",
    "df_subsetR2 = df_subsetR.drop(['B_fighter', 'Winner', 'B_Stance', 'South Paw Blue Win'], axis=1)\n",
    "\n",
    "# Renaming the columns for the purpose of concatenating the two corners after\n",
    "\n",
    "df_subsetR3 = df_subsetR2.rename(columns={\"R_fighter\": \"Fighter\", \"R_Stance\": \"Stance\", \"South Paw Red Win\": \"Win or Loss\"}, errors=\"raise\")\n",
    "\n",
    "# Dropping the red corner that is not collected in this subset\n",
    "\n",
    "df_subsetB2 = df_subsetB.drop(['R_fighter', 'Winner', 'R_Stance', 'South Paw Red Win'], axis=1)\n",
    "\n",
    "# Renaming the columns for the purpose of concatenating the two corners after\n",
    "\n",
    "df_subsetB3 = df_subsetB2.rename(columns={\"B_fighter\": \"Fighter\", \"B_Stance\": \"Stance\", \"South Paw Blue Win\": \"Win or Loss\"}, errors=\"raise\")\n",
    "\n",
    "# Concatenating the columns to include win loss for all southpaw fighters no longer separated by red or blue corner\n",
    "\n",
    "South_Paw_Final = pd.concat([df_subsetB3, df_subsetR3])\n",
    "\n",
    "# Replacing 'N/A' columns with np.NaN instead\n",
    "\n",
    "South_Paw_Final['Win or Loss'] = South_Paw_Final['Win or Loss'].replace({'N/A': np.NaN})\n",
    "\n",
    "# Making a copy in case something gets messed up...\n",
    "\n",
    "South_Paw_Final1 = South_Paw_Final\n",
    "\n",
    "# Creating a year column that groups each specific date into broader category of \"Year\"\n",
    "\n",
    "South_Paw_Final1['year'] = South_Paw_Final['date'].apply(lambda x : x.split('-')[0])\n",
    "\n",
    "# Applying win collector and loss collector functions to the south paw data frame to create new win loss columns\n",
    "\n",
    "South_Paw_Final1['Win'] = South_Paw_Final1.apply(win_collector, axis=1)\n",
    "South_Paw_Final1['Loss'] = South_Paw_Final1.apply(loss_collector, axis=1)\n",
    "\n",
    "# Calculating and creating a ratio column to hold the win loss ratio for Southpaw fighters\n",
    "\n",
    "South_Paw_Ratio_Df = pd.DataFrame([South_Paw_Final1.groupby('year').sum().Win, \n",
    "              South_Paw_Final1.groupby('year').sum().Loss]).fillna(0).T\n",
    "\n",
    "South_Paw_Ratio_Df['Ratio'] = South_Paw_Ratio_Df['Win']/South_Paw_Ratio_Df['Loss']\n",
    "\n",
    "South_Paw_Ratio_Df = South_Paw_Ratio_Df.reset_index()"
   ]
  },
  {
   "cell_type": "code",
   "execution_count": 0,
   "metadata": {
    "colab": {},
    "colab_type": "code",
    "id": "Sdz3E9ehfMrk"
   },
   "outputs": [],
   "source": [
    "## Data Prep for Non Southpaw Fighters:\n",
    "\n",
    "# Applying the other fighters function to the df_subset data\n",
    "\n",
    "df_subset1['Other Red Win'] = df_subset1.apply(other_fighters_red, axis=1)\n",
    "df_subset1['Other Blue Win'] = df_subset1.apply(other_fighters_blue, axis=1)\n",
    "\n",
    "#Taking out relevant data\n",
    "\n",
    "df_other = df_subset1[['R_fighter','B_fighter','date','Winner','R_Stance','B_Stance','Other Red Win', 'Other Blue Win']]\n",
    "\n",
    "# Taking out non southpaw fighters for each corner\n",
    "\n",
    "df_other_subsetR = df_other[df_other['R_Stance'] != 'Southpaw']\n",
    "df_other_subsetB = df_other[df_other['B_Stance'] != 'Southpaw']\n",
    "\n",
    "# Dropping the blue corner that is not collected in this subset \n",
    "\n",
    "df_other_subsetR = df_other_subsetR.drop(['B_fighter', 'Winner', 'B_Stance', 'Other Blue Win'], axis=1)\n",
    "\n",
    "# Renaming the columns for the purpose of concatenating the two corners after\n",
    "\n",
    "df_other_subsetR = df_other_subsetR.rename(columns={\"R_fighter\": \"Fighter\", \"R_Stance\": \"Stance\", \"Other Red Win\": \"Win or Loss\"}, errors=\"raise\")\n",
    "\n",
    "# Dropping the red corner that is not collected in this subset \n",
    "\n",
    "df_other_subsetB = df_other_subsetB.drop(['R_fighter', 'Winner', 'R_Stance', 'Other Red Win'], axis=1)\n",
    "\n",
    "# Renaming the columns for the purpose of concatenating the two corners after\n",
    "\n",
    "df_other_subsetB = df_other_subsetB.rename(columns={\"B_fighter\": \"Fighter\", \"B_Stance\": \"Stance\", \"Other Blue Win\": \"Win or Loss\"}, errors=\"raise\")\n",
    "\n",
    "# Concatenating the columns to include win loss for all other style fighters no longer separated by red or blue corner\n",
    "\n",
    "Other_Style_Final = pd.concat([df_other_subsetB, df_other_subsetR])\n",
    "\n",
    "# Replacing 'N/A' columns with np.NaN instead\n",
    "\n",
    "Other_Style_Final['Win or Loss'] = Other_Style_Final['Win or Loss'].replace({'N/A': np.NaN})\n",
    "\n",
    "# Creating a copy in case something gets messed up...\n",
    "\n",
    "Other_Style_Final1 = Other_Style_Final\n",
    "\n",
    "# Creating a new column that groups each date into a column only including year\n",
    "\n",
    "Other_Style_Final1['year'] = Other_Style_Final1['date'].apply(lambda x : x.split('-')[0])\n",
    "\n",
    "# Resetting index to access date value for graphing\n",
    "\n",
    "Other_Style_Final1 = Other_Style_Final1.reset_index()\n",
    "\n",
    "# Applyin win collector function to create new columns win and loss for calculating win loss ratio\n",
    "\n",
    "Other_Style_Final1['Win'] = Other_Style_Final1.apply(win_collector, axis=1)\n",
    "Other_Style_Final1['Loss']= Other_Style_Final1.apply(loss_collector, axis=1)\n",
    "\n",
    "# Create a new data frame that contains the Ratio of wins to losses\n",
    "\n",
    "Other_Style_Ratio_Df = pd.DataFrame([Other_Style_Final1.groupby('year').sum().Win, \n",
    "              Other_Style_Final1.groupby('year').sum().Loss]).fillna(0).T\n",
    "\n",
    "Other_Style_Ratio_Df['Ratio'] = Other_Style_Ratio_Df['Win']/Other_Style_Ratio_Df['Loss']\n",
    "\n",
    "Other_Style_Ratio_Df = Other_Style_Ratio_Df.reset_index()"
   ]
  },
  {
   "cell_type": "code",
   "execution_count": 0,
   "metadata": {
    "colab": {
     "base_uri": "https://localhost:8080/",
     "height": 221
    },
    "colab_type": "code",
    "executionInfo": {
     "elapsed": 9539,
     "status": "ok",
     "timestamp": 1584561466135,
     "user": {
      "displayName": "Kyle Yates",
      "photoUrl": "https://lh3.googleusercontent.com/a-/AOh14GihSdUuoj8Jqg3faSdJ_YoYcCNfdD4nBcMH0a-eNw=s64",
      "userId": "13984558898084674041"
     },
     "user_tz": 420
    },
    "id": "7dR7brzk-QlC",
    "outputId": "d51bd386-af5d-4dce-ec4f-30470dff8385"
   },
   "outputs": [
    {
     "name": "stderr",
     "output_type": "stream",
     "text": [
      "/usr/local/lib/python3.6/dist-packages/ipykernel_launcher.py:6: SettingWithCopyWarning: \n",
      "A value is trying to be set on a copy of a slice from a DataFrame.\n",
      "Try using .loc[row_indexer,col_indexer] = value instead\n",
      "\n",
      "See the caveats in the documentation: http://pandas.pydata.org/pandas-docs/stable/user_guide/indexing.html#returning-a-view-versus-a-copy\n",
      "  \n",
      "/usr/local/lib/python3.6/dist-packages/ipykernel_launcher.py:7: SettingWithCopyWarning: \n",
      "A value is trying to be set on a copy of a slice from a DataFrame.\n",
      "Try using .loc[row_indexer,col_indexer] = value instead\n",
      "\n",
      "See the caveats in the documentation: http://pandas.pydata.org/pandas-docs/stable/user_guide/indexing.html#returning-a-view-versus-a-copy\n",
      "  import sys\n"
     ]
    }
   ],
   "source": [
    "## Data Prep for Orthodox Fighters\n",
    "\n",
    "# Taking out just relevant columns\n",
    "\n",
    "orthodox_subset1 = df_subset1[['R_fighter','B_fighter','date','Winner','R_Stance','B_Stance']]\n",
    "\n",
    "# Applying the south paw function to the data\n",
    "\n",
    "orthodox_subset1['Orthodox Red Win'] = df_subset1.apply(orthodox_red, axis=1)\n",
    "orthodox_subset1['Orthodox Blue Win'] = df_subset1.apply(orthodox_blue, axis=1)\n",
    "\n",
    "#Taking out just orthodox fighters for each corner\n",
    "\n",
    "orthodox_subsetR = orthodox_subset1[orthodox_subset1['R_Stance'] == 'Orthodox']\n",
    "orthodox_subsetB = orthodox_subset1[orthodox_subset1['B_Stance'] == 'Orthodox']\n",
    "\n",
    "# Dropping the blue corner that is not collected in this subset\n",
    "\n",
    "orthodox_subsetR = orthodox_subsetR.drop(['B_fighter', 'Winner', 'B_Stance', 'Orthodox Blue Win'], axis=1)\n",
    "\n",
    "# Renaming the columns for the purpose of concatenating the two corners after\n",
    "\n",
    "orthodox_subsetR = orthodox_subsetR.rename(columns={\"R_fighter\": \"Fighter\", \"R_Stance\": \"Stance\", \"Orthodox Red Win\": \"Win or Loss\"}, errors=\"raise\")\n",
    "\n",
    "# Dropping the red corner that is not collected in this subset\n",
    "\n",
    "orthodox_subsetB = orthodox_subsetB.drop(['R_fighter', 'Winner', 'R_Stance', 'Orthodox Red Win'], axis=1)\n",
    "\n",
    "# Renaming the columns for the purpose of concatenating the two corners after\n",
    "\n",
    "orthodox_subsetB = orthodox_subsetB.rename(columns={\"B_fighter\": \"Fighter\", \"B_Stance\": \"Stance\", \"Orthodox Blue Win\": \"Win or Loss\"}, errors=\"raise\")\n",
    "\n",
    "# Concatenating the columns to include win loss for all southpaw fighters no longer separated by red or blue corner\n",
    "\n",
    "Orthodox_Final = pd.concat([orthodox_subsetR, orthodox_subsetB])\n",
    "\n",
    "# Replacing 'N/A' columns with np.NaN instead\n",
    "\n",
    "Orthodox_Final['Win or Loss'] = Orthodox_Final['Win or Loss'].replace({'N/A': np.NaN})\n",
    "\n",
    "# Creating a year column that groups each specific date into broader category of \"Year\"\n",
    "\n",
    "Orthodox_Final['year'] = Orthodox_Final['date'].apply(lambda x : x.split('-')[0])\n",
    "\n",
    "# Applying win collector function to Orthodox data \n",
    "\n",
    "Orthodox_Final['Win'] = Orthodox_Final.apply(win_collector, axis=1)\n",
    "Orthodox_Final['Loss'] = Orthodox_Final.apply(loss_collector, axis=1)\n",
    "\n",
    "# Calculating and creating a ratio data frame to hold the win loss ratio for Orthodox fighters\n",
    "\n",
    "Orthodox_Ratio_Df = pd.DataFrame([Orthodox_Final.groupby('year').sum().Win, \n",
    "              Orthodox_Final.groupby('year').sum().Loss]).fillna(0).T\n",
    "\n",
    "Orthodox_Ratio_Df['Ratio'] = Orthodox_Ratio_Df['Win']/Orthodox_Ratio_Df['Loss']\n",
    "\n",
    "Orthodox_Ratio_Df = Orthodox_Ratio_Df.reset_index()"
   ]
  },
  {
   "cell_type": "markdown",
   "metadata": {
    "colab_type": "text",
    "id": "ixEblW5xsc8L"
   },
   "source": [
    "# ------------------------------ Data Visualizations ------------------------------"
   ]
  },
  {
   "cell_type": "code",
   "execution_count": 0,
   "metadata": {
    "colab": {
     "base_uri": "https://localhost:8080/",
     "height": 34
    },
    "colab_type": "code",
    "executionInfo": {
     "elapsed": 9529,
     "status": "ok",
     "timestamp": 1584561466136,
     "user": {
      "displayName": "Kyle Yates",
      "photoUrl": "https://lh3.googleusercontent.com/a-/AOh14GihSdUuoj8Jqg3faSdJ_YoYcCNfdD4nBcMH0a-eNw=s64",
      "userId": "13984558898084674041"
     },
     "user_tz": 420
    },
    "id": "W9qrm_C9pQBm",
    "outputId": "ccd73bdc-2f9e-48f8-dbf7-37dae8b9a45d"
   },
   "outputs": [
    {
     "data": {
      "text/plain": [
       "7958"
      ]
     },
     "execution_count": 24,
     "metadata": {
      "tags": []
     },
     "output_type": "execute_result"
    }
   ],
   "source": [
    "# Creating a visualization to show the most common fighting styles\n",
    "\n",
    "\n",
    "bars = alt.Chart(All_Stance_Final).mark_bar(size=45).encode(\n",
    "    \n",
    "    x='Fight Count',\n",
    "    y=\"Stance\",\n",
    "    color = 'Stance',\n",
    ").properties(\n",
    "    title='Total Fights by Stance 2009 to 2019'\n",
    ")\n",
    "text = bars.mark_text(\n",
    "    align='left',\n",
    "    baseline='middle',\n",
    "    dx=3  \n",
    ").encode(\n",
    "    text='Fight Count'\n",
    ")\n",
    "\n",
    "(bars + text).properties(height=400, width=500)\n",
    "7958"
   ]
  },
  {
   "cell_type": "code",
   "execution_count": 0,
   "metadata": {
    "colab": {
     "base_uri": "https://localhost:8080/",
     "height": 530
    },
    "colab_type": "code",
    "executionInfo": {
     "elapsed": 9519,
     "status": "ok",
     "timestamp": 1584561466137,
     "user": {
      "displayName": "Kyle Yates",
      "photoUrl": "https://lh3.googleusercontent.com/a-/AOh14GihSdUuoj8Jqg3faSdJ_YoYcCNfdD4nBcMH0a-eNw=s64",
      "userId": "13984558898084674041"
     },
     "user_tz": 420
    },
    "id": "RJq6_p_4g9Z3",
    "outputId": "69b93137-f38d-416f-a3a4-c24add0fe4a3"
   },
   "outputs": [
    {
     "data": {
      "text/html": [
       "\n",
       "<div id=\"altair-viz-03dff44ccf5e4c9089064ac4a44f26d3\"></div>\n",
       "<script type=\"text/javascript\">\n",
       "  (function(spec, embedOpt){\n",
       "    const outputDiv = document.getElementById(\"altair-viz-03dff44ccf5e4c9089064ac4a44f26d3\");\n",
       "    const paths = {\n",
       "      \"vega\": \"https://cdn.jsdelivr.net/npm//vega@5?noext\",\n",
       "      \"vega-lib\": \"https://cdn.jsdelivr.net/npm//vega-lib?noext\",\n",
       "      \"vega-lite\": \"https://cdn.jsdelivr.net/npm//vega-lite@4.0.2?noext\",\n",
       "      \"vega-embed\": \"https://cdn.jsdelivr.net/npm//vega-embed@6?noext\",\n",
       "    };\n",
       "\n",
       "    function loadScript(lib) {\n",
       "      return new Promise(function(resolve, reject) {\n",
       "        var s = document.createElement('script');\n",
       "        s.src = paths[lib];\n",
       "        s.async = true;\n",
       "        s.onload = () => resolve(paths[lib]);\n",
       "        s.onerror = () => reject(`Error loading script: ${paths[lib]}`);\n",
       "        document.getElementsByTagName(\"head\")[0].appendChild(s);\n",
       "      });\n",
       "    }\n",
       "\n",
       "    function showError(err) {\n",
       "      outputDiv.innerHTML = `<div class=\"error\" style=\"color:red;\">${err}</div>`;\n",
       "      throw err;\n",
       "    }\n",
       "\n",
       "    function displayChart(vegaEmbed) {\n",
       "      vegaEmbed(outputDiv, spec, embedOpt)\n",
       "        .catch(err => showError(`Javascript Error: ${err.message}<br>This usually means there's a typo in your chart specification. See the javascript console for the full traceback.`));\n",
       "    }\n",
       "\n",
       "    if(typeof define === \"function\" && define.amd) {\n",
       "      requirejs.config({paths});\n",
       "      require([\"vega-embed\"], displayChart, err => showError(`Error loading script: ${err.message}`));\n",
       "    } else if (typeof vegaEmbed === \"function\") {\n",
       "      displayChart(vegaEmbed);\n",
       "    } else {\n",
       "      loadScript(\"vega\")\n",
       "        .then(() => loadScript(\"vega-lite\"))\n",
       "        .then(() => loadScript(\"vega-embed\"))\n",
       "        .catch(showError)\n",
       "        .then(() => displayChart(vegaEmbed));\n",
       "    }\n",
       "  })({\"config\": {\"view\": {\"continuousWidth\": 400, \"continuousHeight\": 300}, \"legend\": {\"cornerRadius\": 10, \"fillColor\": \"#EEEEEE\", \"orient\": \"top-right\", \"padding\": 10, \"strokeColor\": \"gray\"}}, \"data\": {\"name\": \"data-c88f1eddbb7f05face3c5f616b168a0e\"}, \"mark\": {\"type\": \"bar\", \"size\": 45}, \"encoding\": {\"color\": {\"type\": \"nominal\", \"field\": \"Stance\"}, \"x\": {\"type\": \"quantitative\", \"field\": \"Fight Count\"}, \"y\": {\"type\": \"nominal\", \"field\": \"Stance\"}}, \"height\": 450, \"title\": \"Total Fights by Stance\", \"width\": 550, \"$schema\": \"https://vega.github.io/schema/vega-lite/v4.0.2.json\", \"datasets\": {\"data-c88f1eddbb7f05face3c5f616b168a0e\": [{\"Fight Count\": 6050, \"Stance\": \"Orthodox\"}, {\"Fight Count\": 1637, \"Stance\": \"Southpaw\"}, {\"Fight Count\": 258, \"Stance\": \"Switch\"}, {\"Fight Count\": 13, \"Stance\": \"Open Stance\"}]}}, {\"mode\": \"vega-lite\"});\n",
       "</script>"
      ],
      "text/plain": [
       "alt.Chart(...)"
      ]
     },
     "execution_count": 25,
     "metadata": {
      "tags": []
     },
     "output_type": "execute_result"
    }
   ],
   "source": [
    "# Creating a visualization to show the most common fighting styles, this time exerimenting with the legend of altair\n",
    "\n",
    "chart = alt.Chart(All_Stance_Final).mark_bar(size=45).encode(\n",
    "    x='Fight Count',\n",
    "    y='Stance',\n",
    "    color='Stance'\n",
    "    ).properties(\n",
    "    title='Total Fights by Stance'\n",
    ")\n",
    "    \n",
    "\n",
    "\n",
    "text = chart.mark_text(\n",
    "    align='left',\n",
    "    baseline='middle',\n",
    "    dx=3  \n",
    ").encode(\n",
    "    text='Fight Count'\n",
    ")\n",
    "(chart + text).properties(height=550, width=650)\n",
    "\n",
    "chart.configure_legend(\n",
    "    strokeColor='gray',\n",
    "    fillColor='#EEEEEE',\n",
    "    padding=10,\n",
    "    cornerRadius=10,\n",
    "    orient='top-right'\n",
    "\n",
    ").properties(\n",
    "  width=550,\n",
    "  height=450\n",
    ")\n",
    "# )\n",
    "\n"
   ]
  },
  {
   "cell_type": "code",
   "execution_count": 0,
   "metadata": {
    "colab": {
     "base_uri": "https://localhost:8080/",
     "height": 536
    },
    "colab_type": "code",
    "executionInfo": {
     "elapsed": 9821,
     "status": "ok",
     "timestamp": 1584561466449,
     "user": {
      "displayName": "Kyle Yates",
      "photoUrl": "https://lh3.googleusercontent.com/a-/AOh14GihSdUuoj8Jqg3faSdJ_YoYcCNfdD4nBcMH0a-eNw=s64",
      "userId": "13984558898084674041"
     },
     "user_tz": 420
    },
    "id": "qaN_sU9cBtuK",
    "outputId": "5a2210a1-47aa-41f9-c51c-c9503896c420"
   },
   "outputs": [
    {
     "data": {
      "image/png": "[encoded data removed]",
      "text/plain": [
       "<Figure size 864x576 with 1 Axes>"
      ]
     },
     "metadata": {
      "tags": []
     },
     "output_type": "display_data"
    }
   ],
   "source": [
    "# Creating a visualization to show win ratio of southpaw fighters compared to orthodox fighters\n",
    "\n",
    "# Setting the figure axes\n",
    "fig, ax = plt.subplots(figsize=(12,8))\n",
    "\n",
    "\n",
    "# Setting the title\n",
    "ax.set_title(\"Southpaw Win Ratio vs Orthodox Fighters\",\n",
    "          fontsize=15,\n",
    "          fontweight='bold',\n",
    "          pad=15,\n",
    "          ha='center',\n",
    "          color='.1')\n",
    "\n",
    "plt.plot(South_Paw_Ratio_Df['Ratio'], color='red')\n",
    "plt.plot(Orthodox_Ratio_Df['Ratio'], color='orange')\n",
    "\n",
    "# Creating the X and Y labels\n",
    "\n",
    "plt.xlabel('Year', fontsize=20, color='.1')\n",
    "plt.ylabel('Win Ratio', fontsize=20, color='.1')\n",
    "\n",
    "# Creating the Legend\n",
    "\n",
    "plt.legend(labels=['Southpaw','Orthodox'],loc=\"upper right\")\n",
    "\n",
    "plt.grid(axis= 'both')\n",
    "\n",
    "# Y Tick settings\n",
    "\n",
    "y_ticks_list = [.6, .8, 1.0, 1.2, 1.4, 1.6, 1.8]\n",
    "y_ticks_labels = ['3:5 or .6', '4:5 or .8', '1:1 or 50%', '6:5 or 1.2', '7:5 or 1.4', '8:5 or 1.6', '9:5 or 1.8']\n",
    "\n",
    "plt.yticks(y_ticks_list,\n",
    "           y_ticks_labels, \n",
    "           fontsize=21)\n",
    "\n",
    "\n",
    "# X Tick settings\n",
    "\n",
    "x_ticks_list = range(0,11)\n",
    "x_ticks_labels = ['2009', '2010', '2011', '2012', '2013', '2014', '2015', '2016', '2017', '2018', '2019']\n",
    "\n",
    "plt.xticks(x_ticks_list,\n",
    "           x_ticks_labels,   \n",
    "           rotation='horizontal',\n",
    "           fontsize=12,\n",
    "           fontweight='bold',\n",
    "           color='.1')\n",
    "\n",
    "\n",
    "# Spine settings\n",
    "\n",
    "ax.spines['right'].set_visible(True)\n",
    "ax.spines['left'].set_color('.1')\n",
    "ax.spines['left'].set_linewidth('6')\n",
    "ax.spines['left'].set_position(('axes', .0009))\n",
    "ax.spines['top'].set_visible(True)\n",
    "ax.spines['bottom'].set_color('.1')\n",
    "ax.spines['bottom'].set_linewidth('5')\n",
    "\n",
    "plt.xlim(0,10)\n",
    "plt.ylim(.5,1.8)\n",
    "plt.show()\n"
   ]
  },
  {
   "cell_type": "code",
   "execution_count": 0,
   "metadata": {
    "colab": {
     "base_uri": "https://localhost:8080/",
     "height": 536
    },
    "colab_type": "code",
    "executionInfo": {
     "elapsed": 10043,
     "status": "ok",
     "timestamp": 1584561466682,
     "user": {
      "displayName": "Kyle Yates",
      "photoUrl": "https://lh3.googleusercontent.com/a-/AOh14GihSdUuoj8Jqg3faSdJ_YoYcCNfdD4nBcMH0a-eNw=s64",
      "userId": "13984558898084674041"
     },
     "user_tz": 420
    },
    "id": "ugNlxbUmnR2e",
    "outputId": "ad07cd50-0649-4728-c3ff-59866e40aae1"
   },
   "outputs": [
    {
     "data": {
      "image/png": "[encoded data removed]",
      "text/plain": [
       "<Figure size 864x576 with 1 Axes>"
      ]
     },
     "metadata": {
      "tags": []
     },
     "output_type": "display_data"
    }
   ],
   "source": [
    "# Plotting the win/loss ratio of southpaw fighters against all other fighters\n",
    "\n",
    "\n",
    "# Setting the figure and axes\n",
    "\n",
    "fig, ax = plt.subplots(figsize=(12,8))\n",
    "\n",
    "ax.set_title(\"Southpaw Win Ratio vs All Other Fighting Styles\",\n",
    "          fontsize=15,\n",
    "          fontweight='bold',\n",
    "          pad=15,\n",
    "          ha='center',\n",
    "          color='.1')\n",
    "\n",
    "plt.plot(South_Paw_Ratio_Df['Ratio'], color='red')\n",
    "plt.plot(Other_Style_Ratio_Df['Ratio'], color='blue')\n",
    "\n",
    "\n",
    "# Creating the X and Y labels\n",
    "\n",
    "plt.xlabel('Year', fontsize=20)\n",
    "plt.ylabel('Win Ratio', fontsize=20)\n",
    "\n",
    "# Creating the Legend\n",
    "\n",
    "plt.legend(labels=['Southpaw','Other'],loc=\"upper right\")\n",
    "\n",
    "# Setting a grid\n",
    "\n",
    "plt.grid(axis= 'both')\n",
    "\n",
    "# Y Tick settings\n",
    "\n",
    "y_ticks_list = [.6, .8, 1.0, 1.2, 1.4, 1.6, 1.8]\n",
    "y_ticks_labels = ['3:5 or .6', '4:5 or .8', '1:1 or 50%', '6:5 or 1.2', '7:5 or 1.4', '8:5 or 1.6', '9:5 or 1.8']\n",
    "\n",
    "\n",
    "plt.yticks(y_ticks_list,\n",
    "           y_ticks_labels,   \n",
    "           rotation='horizontal',\n",
    "           fontsize=23,\n",
    "           fontweight='bold',\n",
    "           color='.1')\n",
    "\n",
    "# X Tick settings\n",
    "\n",
    "x_ticks_list = range(0,11)\n",
    "x_ticks_labels = ['2009', '2010', '2011', '2012', '2013', '2014', '2015', '2016', '2017', '2018', '2019']\n",
    "\n",
    "plt.xticks(x_ticks_list,\n",
    "           x_ticks_labels,   \n",
    "           rotation='horizontal',\n",
    "           fontsize=12,\n",
    "           fontweight='bold',\n",
    "           color='.1')\n",
    "\n",
    "\n",
    "# Spine settings\n",
    "\n",
    "ax.spines['right'].set_visible(True)\n",
    "ax.spines['left'].set_color('.1')\n",
    "ax.spines['left'].set_linewidth('6')\n",
    "ax.spines['left'].set_position(('axes', .001))\n",
    "ax.spines['top'].set_visible(True)\n",
    "ax.spines['bottom'].set_color('.1')\n",
    "ax.spines['bottom'].set_linewidth('5')\n",
    "\n",
    "# Setting X and Y Limits\n",
    "\n",
    "plt.xlim(0,10)\n",
    "plt.ylim(.5,1.8)\n",
    "plt.show()\n"
   ]
  }
 ],
 "metadata": {
  "colab": {
   "authorship_tag": "ABX9TyMC0hoCoamKcEJ5EUqXsoe4",
   "collapsed_sections": [],
   "mount_file_id": "1ekmC4WdreBlteviBiNaBdQ9T5_am8Atw",
   "name": "Build Week 2 Notebook for Predictive Model.ipynb",
   "provenance": [],
   "toc_visible": true
  },
  "kernelspec": {
   "display_name": "Python 3",
   "language": "python",
   "name": "python3"
  },
  "language_info": {
   "codemirror_mode": {
    "name": "ipython",
    "version": 3
   },
   "file_extension": ".py",
   "mimetype": "text/x-python",
   "name": "python",
   "nbconvert_exporter": "python",
   "pygments_lexer": "ipython3",
   "version": "3.7.7-final"
  }
 },
 "nbformat": 4,
 "nbformat_minor": 1
}