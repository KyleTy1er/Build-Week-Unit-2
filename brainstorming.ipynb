{
 "nbformat": 4,
 "nbformat_minor": 2,
 "metadata": {
  "language_info": {
   "name": "python",
   "codemirror_mode": {
    "name": "ipython",
    "version": 3
   },
   "version": "3.7.7-final"
  },
  "orig_nbformat": 2,
  "file_extension": ".py",
  "mimetype": "text/x-python",
  "name": "python",
  "npconvert_exporter": "python",
  "pygments_lexer": "ipython3",
  "version": 3,
  "kernelspec": {
   "name": "python37764bitunit2conda7a6347dc965f4ae494e4b5c0d2b6a041",
   "display_name": "Python 3.7.7 64-bit ('unit2': conda)"
  }
 },
 "cells": [
  {
   "cell_type": "code",
   "execution_count": 5,
   "metadata": {},
   "outputs": [],
   "source": [
    "import pandas as pd\n",
    "import numpy as np\n",
    "import matplotlib.pyplot as plt\n",
    "import seaborn as sns\n",
    "import re"
   ]
  },
  {
   "cell_type": "code",
   "execution_count": 6,
   "metadata": {},
   "outputs": [],
   "source": [
    "predf = pd.read_csv('https://raw.githubusercontent.com/KyleTy1er/Build-Week-1/master/UFC_Data_Proc.csv')"
   ]
  },
  {
   "cell_type": "code",
   "execution_count": 10,
   "metadata": {},
   "outputs": [],
   "source": [
    "\n",
    "\\\n"
   ]
  },
  {
   "cell_type": "code",
   "execution_count": 11,
   "metadata": {},
   "outputs": [
    {
     "output_type": "execute_result",
     "data": {
      "text/plain": "Index(['R_fighter', 'B_fighter', 'Referee', 'date', 'location', 'Winner',\n       'title_bout', 'weight_class', 'no_of_rounds', 'B_current_lose_streak',\n       'B_current_win_streak', 'B_draw', 'B_avg_BODY_att', 'B_avg_BODY_landed',\n       'B_avg_CLINCH_att', 'B_avg_CLINCH_landed', 'B_avg_DISTANCE_att',\n       'B_avg_DISTANCE_landed', 'B_avg_GROUND_att', 'B_avg_GROUND_landed',\n       'B_avg_HEAD_att', 'B_avg_HEAD_landed', 'B_avg_KD', 'B_avg_LEG_att',\n       'B_avg_LEG_landed', 'B_avg_PASS', 'B_avg_REV', 'B_avg_SIG_STR_att',\n       'B_avg_SIG_STR_landed', 'B_avg_SIG_STR_pct', 'B_avg_SUB_ATT',\n       'B_avg_TD_att', 'B_avg_TD_landed', 'B_avg_TD_pct',\n       'B_avg_TOTAL_STR_att', 'B_avg_TOTAL_STR_landed', 'B_longest_win_streak',\n       'B_losses', 'B_avg_opp_BODY_att', 'B_avg_opp_BODY_landed',\n       'B_avg_opp_CLINCH_att', 'B_avg_opp_CLINCH_landed',\n       'B_avg_opp_DISTANCE_att', 'B_avg_opp_DISTANCE_landed',\n       'B_avg_opp_GROUND_att', 'B_avg_opp_GROUND_landed', 'B_avg_opp_HEAD_att',\n       'B_avg_opp_HEAD_landed', 'B_avg_opp_KD', 'B_avg_opp_LEG_att',\n       'B_avg_opp_LEG_landed', 'B_avg_opp_PASS', 'B_avg_opp_REV',\n       'B_avg_opp_SIG_STR_att', 'B_avg_opp_SIG_STR_landed',\n       'B_avg_opp_SIG_STR_pct', 'B_avg_opp_SUB_ATT', 'B_avg_opp_TD_att',\n       'B_avg_opp_TD_landed', 'B_avg_opp_TD_pct', 'B_avg_opp_TOTAL_STR_att',\n       'B_avg_opp_TOTAL_STR_landed', 'B_total_rounds_fought',\n       'B_total_time_fought(seconds)', 'B_total_title_bouts',\n       'B_win_by_Decision_Majority', 'B_win_by_Decision_Split',\n       'B_win_by_Decision_Unanimous', 'B_win_by_KO/TKO', 'B_win_by_Submission',\n       'B_win_by_TKO_Doctor_Stoppage', 'B_wins', 'B_Stance', 'B_Height_cms',\n       'B_Reach_cms', 'B_Weight_lbs', 'R_current_lose_streak',\n       'R_current_win_streak', 'R_draw', 'R_avg_BODY_att', 'R_avg_BODY_landed',\n       'R_avg_CLINCH_att', 'R_avg_CLINCH_landed', 'R_avg_DISTANCE_att',\n       'R_avg_DISTANCE_landed', 'R_avg_GROUND_att', 'R_avg_GROUND_landed',\n       'R_avg_HEAD_att', 'R_avg_HEAD_landed', 'R_avg_KD', 'R_avg_LEG_att',\n       'R_avg_LEG_landed', 'R_avg_PASS', 'R_avg_REV', 'R_avg_SIG_STR_att',\n       'R_avg_SIG_STR_landed', 'R_avg_SIG_STR_pct', 'R_avg_SUB_ATT',\n       'R_avg_TD_att', 'R_avg_TD_landed', 'R_avg_TD_pct',\n       'R_avg_TOTAL_STR_att', 'R_avg_TOTAL_STR_landed', 'R_longest_win_streak',\n       'R_losses', 'R_avg_opp_BODY_att', 'R_avg_opp_BODY_landed',\n       'R_avg_opp_CLINCH_att', 'R_avg_opp_CLINCH_landed',\n       'R_avg_opp_DISTANCE_att', 'R_avg_opp_DISTANCE_landed',\n       'R_avg_opp_GROUND_att', 'R_avg_opp_GROUND_landed', 'R_avg_opp_HEAD_att',\n       'R_avg_opp_HEAD_landed', 'R_avg_opp_KD', 'R_avg_opp_LEG_att',\n       'R_avg_opp_LEG_landed', 'R_avg_opp_PASS', 'R_avg_opp_REV',\n       'R_avg_opp_SIG_STR_att', 'R_avg_opp_SIG_STR_landed',\n       'R_avg_opp_SIG_STR_pct', 'R_avg_opp_SUB_ATT', 'R_avg_opp_TD_att',\n       'R_avg_opp_TD_landed', 'R_avg_opp_TD_pct', 'R_avg_opp_TOTAL_STR_att',\n       'R_avg_opp_TOTAL_STR_landed', 'R_total_rounds_fought',\n       'R_total_time_fought(seconds)', 'R_total_title_bouts',\n       'R_win_by_Decision_Majority', 'R_win_by_Decision_Split',\n       'R_win_by_Decision_Unanimous', 'R_win_by_KO/TKO', 'R_win_by_Submission',\n       'R_win_by_TKO_Doctor_Stoppage', 'R_wins', 'R_Stance', 'R_Height_cms',\n       'R_Reach_cms', 'R_Weight_lbs', 'B_age', 'R_age'],\n      dtype='object')"
     },
     "metadata": {},
     "execution_count": 11
    }
   ],
   "source": [
    "predf.columns"
   ]
  },
  {
   "cell_type": "code",
   "execution_count": 17,
   "metadata": {},
   "outputs": [],
   "source": [
    "test_col = [col for col in predf.columns]"
   ]
  },
  {
   "cell_type": "code",
   "execution_count": 8,
   "metadata": {},
   "outputs": [],
   "source": [
    "r_fighter_cols = [col for col in predf.columns if col.startswith(\"R_\")]"
   ]
  },
  {
   "cell_type": "code",
   "execution_count": 13,
   "metadata": {},
   "outputs": [],
   "source": [
    "b_fighter_cols = [col for col in predf.columns if col.startswith(\"B_\")]"
   ]
  },
  {
   "cell_type": "code",
   "execution_count": 14,
   "metadata": {},
   "outputs": [],
   "source": [
    "other_cols = [col for col in predf.columns if col not in r_fighter_cols and col not in b_fighter_cols]"
   ]
  },
  {
   "cell_type": "code",
   "execution_count": 15,
   "metadata": {},
   "outputs": [
    {
     "output_type": "execute_result",
     "data": {
      "text/plain": "['Referee',\n 'date',\n 'location',\n 'Winner',\n 'title_bout',\n 'weight_class',\n 'no_of_rounds']"
     },
     "metadata": {},
     "execution_count": 15
    }
   ],
   "source": [
    "other_cols"
   ]
  },
  {
   "cell_type": "code",
   "execution_count": null,
   "metadata": {},
   "outputs": [],
   "source": [
    "def extractFighters(dataframe, fighter_cols, opp_fighter_cols, fighter_prefix, opp_prefix, fighter_color):\n",
    "    fighters_df = dat_df[fighter_cols + other_cols].copy()\n",
    "    fighters_df.columns = [col.replace(fighter_prefix, \"\") for col in fighters_df.columns]\n",
    "    fighters_df[\"is_winner\"] = fighters_df[\"Winner\"] == fighter_color\n",
    "\n",
    "    opp_df = dat_df[opp_cols].copy()\n",
    "    opp_df.columns = [re.sub(r\"^\" + opp_prefix, \"opponent_\", col) for col in opp_df.columns]\n",
    "\n",
    "    fighters_df = pd.concat([fighters_df, opp_df], axis=1)\n",
    "    \n",
    "    return fighters_df"
   ]
  }
 ]
}